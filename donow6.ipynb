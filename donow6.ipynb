{
 "cells": [
  {
   "cell_type": "markdown",
   "metadata": {},
   "source": [
    "#Do Now, \n",
    "Class 6\n",
    "Monday 15, "
   ]
  },
  {
   "cell_type": "markdown",
   "metadata": {},
   "source": [
    "Comma separated values, but it is not always the"
   ]
  },
  {
   "cell_type": "markdown",
   "metadata": {},
   "source": [
    "2) What's the output of the following lines?\n",
    "\n",
    "company = { 'address': '34 45th St', 'name': 'Company LLC', 'owner': 'Jessica Goodman' }\n",
    "for key in company.keys():\n",
    "\tprint key, company[key]\n"
   ]
  },
  {
   "cell_type": "code",
   "execution_count": 1,
   "metadata": {
    "collapsed": true
   },
   "outputs": [],
   "source": [
    "company = { 'address': '34 45th St', 'name': 'Company LLC', 'owner': 'Jessica Goodman' }"
   ]
  },
  {
   "cell_type": "code",
   "execution_count": 2,
   "metadata": {
    "collapsed": false
   },
   "outputs": [
    {
     "name": "stdout",
     "output_type": "stream",
     "text": [
      "owner Jessica Goodman\n",
      "name Company LLC\n",
      "address 34 45th St\n"
     ]
    }
   ],
   "source": [
    "for key in company.keys(): print key, company[key]"
   ]
  },
  {
   "cell_type": "markdown",
   "metadata": {},
   "source": [
    "3) Write a list comprehension to get the name of each of these companies."
   ]
  },
  {
   "cell_type": "code",
   "execution_count": 3,
   "metadata": {
    "collapsed": true
   },
   "outputs": [],
   "source": [
    "companies = [ { 'name': 'Rogers Moving', 'address': '44 34nd St' }, { 'name': 'Box Supplies Inc', 'address': '45 34th Ave' }, { 'name': 'n/a', 'address': 'unknown'} ] "
   ]
  },
  {
   "cell_type": "code",
   "execution_count": 9,
   "metadata": {
    "collapsed": false
   },
   "outputs": [
    {
     "data": {
      "text/plain": [
       "['Rogers Moving', 'Box Supplies Inc', 'n/a']"
      ]
     },
     "execution_count": 9,
     "metadata": {},
     "output_type": "execute_result"
    }
   ],
   "source": [
    "[company ['name'] for company in companies]\n",
    "    "
   ]
  },
  {
   "cell_type": "code",
   "execution_count": null,
   "metadata": {
    "collapsed": true
   },
   "outputs": [],
   "source": []
  },
  {
   "cell_type": "markdown",
   "metadata": {},
   "source": [
    "4) Given the variables rating and target, print \"Failed\" if we didn't meet the target, \"Success\" if we met or exceeded the target, and \"Excellent work\" if we did more than double the target. If the target is zero, though, also print \"Easy\"."
   ]
  },
  {
   "cell_type": "code",
   "execution_count": 13,
   "metadata": {
    "collapsed": false
   },
   "outputs": [],
   "source": [
    "raiting = 5\n",
    "target = 5\n",
    "\n",
    "if raiting < target:\n",
    "    print \"faild\"\n",
    "elif raiting > target *2:\n",
    "    print \"Excellent work\"\n",
    "else:\n",
    "    \"sucsess\"\n",
    "if target == 0:\n",
    "    print \"easy\""
   ]
  },
  {
   "cell_type": "markdown",
   "metadata": {},
   "source": [
    "5a) Given the following, write code to calculate how many murders we have in total.\n",
    "\n",
    "murders = { 'Albany': 23, 'Kings County': 10, 'Rochester': 7, 'Yonkers: 9 }\n",
    "\n",
    "5b) Calculate the number of murders that did not happen in Kings County.\n",
    "\n",
    "5c) I need an alphabetized list of counties that we have murder data for. \n"
   ]
  },
  {
   "cell_type": "code",
   "execution_count": 15,
   "metadata": {
    "collapsed": false
   },
   "outputs": [],
   "source": [
    "murders = { 'Albany': 23, 'Kings County': 10, 'Rochester': 7, 'Yonkers': 9 }"
   ]
  },
  {
   "cell_type": "code",
   "execution_count": null,
   "metadata": {
    "collapsed": true
   },
   "outputs": [],
   "source": [
    "for whatever in murder:\n",
    "    print whatever"
   ]
  },
  {
   "cell_type": "code",
   "execution_count": 16,
   "metadata": {
    "collapsed": false
   },
   "outputs": [
    {
     "data": {
      "text/plain": [
       "[9, 23, 7, 10]"
      ]
     },
     "execution_count": 16,
     "metadata": {},
     "output_type": "execute_result"
    }
   ],
   "source": [
    "murders.values ()"
   ]
  },
  {
   "cell_type": "code",
   "execution_count": 17,
   "metadata": {
    "collapsed": false
   },
   "outputs": [
    {
     "data": {
      "text/plain": [
       "49"
      ]
     },
     "execution_count": 17,
     "metadata": {},
     "output_type": "execute_result"
    }
   ],
   "source": [
    "sum(murders.values ())"
   ]
  },
  {
   "cell_type": "code",
   "execution_count": 19,
   "metadata": {
    "collapsed": false
   },
   "outputs": [],
   "source": [
    "counties = murders.keys()"
   ]
  },
  {
   "cell_type": "code",
   "execution_count": 23,
   "metadata": {
    "collapsed": false
   },
   "outputs": [
    {
     "data": {
      "text/plain": [
       "['Albany', 'Kings County', 'Rochester', 'Yonkers']"
      ]
     },
     "execution_count": 23,
     "metadata": {},
     "output_type": "execute_result"
    }
   ],
   "source": [
    "counties.sort()\n",
    "counties"
   ]
  },
  {
   "cell_type": "code",
   "execution_count": null,
   "metadata": {
    "collapsed": true
   },
   "outputs": [],
   "source": []
  }
 ],
 "metadata": {
  "kernelspec": {
   "display_name": "Python 2",
   "language": "python",
   "name": "python2"
  },
  "language_info": {
   "codemirror_mode": {
    "name": "ipython",
    "version": 2
   },
   "file_extension": ".py",
   "mimetype": "text/x-python",
   "name": "python",
   "nbconvert_exporter": "python",
   "pygments_lexer": "ipython2",
   "version": "2.7.9"
  }
 },
 "nbformat": 4,
 "nbformat_minor": 0
}

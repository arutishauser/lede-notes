{
 "cells": [
  {
   "cell_type": "code",
   "execution_count": 1,
   "metadata": {
    "collapsed": true
   },
   "outputs": [],
   "source": [
    "name = \"Arthur\""
   ]
  },
  {
   "cell_type": "markdown",
   "metadata": {
    "collapsed": true
   },
   "source": [
    "#Donow 3\n",
    "\n",
    "#Question 1\n",
    "Print the 3rd element of a list called dogs."
   ]
  },
  {
   "cell_type": "code",
   "execution_count": 45,
   "metadata": {
    "collapsed": false
   },
   "outputs": [],
   "source": [
    "import csv\n",
    "file = open(\"dogs.csv\")\n",
    "dogs = list(csv.DictReader(file))"
   ]
  },
  {
   "cell_type": "code",
   "execution_count": 46,
   "metadata": {
    "collapsed": false
   },
   "outputs": [
    {
     "data": {
      "text/plain": [
       "{'birth': 'Nov-00',\n",
       " 'borough': 'Manhattan',\n",
       " 'breed': 'Afghan Hound',\n",
       " 'dog_name': 'Abby',\n",
       " 'dominant_color': 'BLACK',\n",
       " 'gender': 'F',\n",
       " 'guard_or_trained': 'No',\n",
       " 'secondary_color': 'TAN',\n",
       " 'spayed_or_neutered': 'Yes',\n",
       " 'third_color': 'n/a',\n",
       " 'zip_code': '10034'}"
      ]
     },
     "execution_count": 46,
     "metadata": {},
     "output_type": "execute_result"
    }
   ],
   "source": [
    "dogs [2]"
   ]
  },
  {
   "cell_type": "markdown",
   "metadata": {},
   "source": [
    "#Question 2\n",
    "What is the output of the following code?\n",
    "\n",
    "numbers = [ 1, 2, 3, 4]\n",
    "colors = [ \"green\", \"blue\" ]\n",
    "for color in colors:\n",
    "\tfor number in numbers:\n",
    "\t\tprint number, color\n"
   ]
  },
  {
   "cell_type": "code",
   "execution_count": 4,
   "metadata": {
    "collapsed": false
   },
   "outputs": [
    {
     "name": "stdout",
     "output_type": "stream",
     "text": [
      "1 green\n",
      "2 green\n",
      "3 green\n",
      "4 green\n",
      "1 blue\n",
      "2 blue\n",
      "3 blue\n",
      "4 blue\n"
     ]
    }
   ],
   "source": [
    "numbers = [ 1, 2, 3, 4]\n",
    "colors = [ \"green\", \"blue\" ]\n",
    "for color in colors:\n",
    "\tfor number in numbers:\n",
    "\t\tprint number, color\n"
   ]
  },
  {
   "cell_type": "markdown",
   "metadata": {},
   "source": [
    "#Question 3\n",
    "What command would you use to get the first 100 lines of data.csv, and save it into a new file named sample.csv?"
   ]
  },
  {
   "cell_type": "markdown",
   "metadata": {},
   "source": [
    "head -n 100 dogs.csv > sample.csv"
   ]
  },
  {
   "cell_type": "markdown",
   "metadata": {},
   "source": [
    "This is a view of the file lists.csv, used for the questions below\n",
    "make\tyear\tcolor\n",
    "Chevrolet\t2011\tblack\n",
    "Honda\t2010\tred\n",
    "Honda\t2013\tblack\n",
    "Toyota\t2001\tgold\n"
   ]
  },
  {
   "cell_type": "markdown",
   "metadata": {},
   "source": [
    "I crate a csv file called output1"
   ]
  },
  {
   "cell_type": "code",
   "execution_count": 36,
   "metadata": {
    "collapsed": false
   },
   "outputs": [
    {
     "name": "stdout",
     "output_type": "stream",
     "text": [
      "\n"
     ]
    }
   ],
   "source": [
    "import csv\n",
    "def csv_writer(data, path):\n",
    "\n",
    "#Write data to a CSV file path\n",
    "\twith open(path, \"wb\") as csv_file:\n",
    "\t\twriter = csv.writer(csv_file, delimiter=',')\n",
    "\t\tfor line in data:\n",
    "\t\t\twriter.writerow(line)\n",
    "\n",
    "\n",
    "if __name__ == \"__main__\":\n",
    "\n",
    "\tdata = [\"make,year,color\".split(\",\"),\n",
    "\t\t\"Chevrolet,2011,black\".split(\",\"),\n",
    "\t\t\"Honda,2010,red\".split(\",\"),\n",
    "\t\t\"Honda,2013,black\".split(\",\"),\n",
    "\t\t\"Toyota,2001,gold\".split(\",\")\n",
    "\t\t]\n",
    "path = \"output3.csv\"\n",
    "csv_writer(data, path)"
   ]
  },
  {
   "cell_type": "code",
   "execution_count": 3,
   "metadata": {
    "collapsed": false
   },
   "outputs": [],
   "source": [
    "import csv\n",
    "file = open(\"output3.csv\")\n",
    "cars = list(csv.DictReader(file))"
   ]
  },
  {
   "cell_type": "code",
   "execution_count": 4,
   "metadata": {
    "collapsed": false
   },
   "outputs": [
    {
     "name": "stdout",
     "output_type": "stream",
     "text": [
      "[{'color': 'black', 'make': 'Chevrolet', 'year': '2011'}, {'color': 'red', 'make': 'Honda', 'year': '2010'}, {'color': 'black', 'make': 'Honda', 'year': '2013'}, {'color': 'gold', 'make': 'Toyota', 'year': '2001'}]\n"
     ]
    }
   ],
   "source": [
    "print cars\n"
   ]
  },
  {
   "cell_type": "markdown",
   "metadata": {},
   "source": [
    "#Question 4\n",
    "What is missing from the lines below? \n",
    "(It isn't 100% necessary, but we use it for convenience)\\n\n",
    "\n",
    "file = open(\"lists.csv\")\\n\n",
    "\n",
    "cars = csv.DictReader(file)\n",
    "\n"
   ]
  },
  {
   "cell_type": "markdown",
   "metadata": {},
   "source": [
    "cars = list(csv.DictReader(file))"
   ]
  },
  {
   "cell_type": "markdown",
   "metadata": {},
   "source": [
    "#Question 5"
   ]
  },
  {
   "cell_type": "markdown",
   "metadata": {},
   "source": [
    "Write a for loop to add up all of the years. "
   ]
  },
  {
   "cell_type": "code",
   "execution_count": 5,
   "metadata": {
    "collapsed": false
   },
   "outputs": [
    {
     "name": "stdout",
     "output_type": "stream",
     "text": [
      "4\n"
     ]
    }
   ],
   "source": [
    "count_car = []\n",
    "for car in cars:\n",
    "\tcount_car.append(car['year'])\n",
    "print len(count_car)\n",
    "    \n",
    "    "
   ]
  },
  {
   "cell_type": "code",
   "execution_count": 6,
   "metadata": {
    "collapsed": false
   },
   "outputs": [
    {
     "name": "stdout",
     "output_type": "stream",
     "text": [
      "['2011', '2010', '2013', '2001']\n"
     ]
    }
   ],
   "source": [
    "print count_car"
   ]
  },
  {
   "cell_type": "markdown",
   "metadata": {},
   "source": [
    "Save it to a variable called total."
   ]
  },
  {
   "cell_type": "code",
   "execution_count": 7,
   "metadata": {
    "collapsed": false
   },
   "outputs": [
    {
     "name": "stdout",
     "output_type": "stream",
     "text": [
      "4\n"
     ]
    }
   ],
   "source": [
    "total = 0\n",
    "for car in cars:\n",
    "\ttotal = total + 1\n",
    "print total"
   ]
  },
  {
   "cell_type": "markdown",
   "metadata": {},
   "source": [
    "now I have the problem that the years are string and not int."
   ]
  },
  {
   "cell_type": "code",
   "execution_count": 8,
   "metadata": {
    "collapsed": false
   },
   "outputs": [
    {
     "name": "stdout",
     "output_type": "stream",
     "text": [
      "['2011', '2010', '2013', '2001']\n"
     ]
    }
   ],
   "source": [
    "print count_car\n",
    "\n"
   ]
  },
  {
   "cell_type": "markdown",
   "metadata": {},
   "source": [
    "so I need to crate a new list with int"
   ]
  },
  {
   "cell_type": "code",
   "execution_count": 18,
   "metadata": {
    "collapsed": true
   },
   "outputs": [],
   "source": [
    "new_car = [int(number) for x in count_car]"
   ]
  },
  {
   "cell_type": "code",
   "execution_count": 19,
   "metadata": {
    "collapsed": false
   },
   "outputs": [
    {
     "name": "stdout",
     "output_type": "stream",
     "text": [
      "[2001, 2001, 2001, 2001]\n"
     ]
    }
   ],
   "source": [
    "print new_car"
   ]
  },
  {
   "cell_type": "markdown",
   "metadata": {},
   "source": [
    "and than I can sum the elements sum(new_car) if I want"
   ]
  },
  {
   "cell_type": "code",
   "execution_count": 20,
   "metadata": {
    "collapsed": false
   },
   "outputs": [
    {
     "name": "stdout",
     "output_type": "stream",
     "text": [
      "8004\n"
     ]
    }
   ],
   "source": [
    "print sum(new_car)"
   ]
  },
  {
   "cell_type": "markdown",
   "metadata": {},
   "source": [
    "#Question 6\n",
    "I'd like a new list called favorites that includes all cars that are black or produced after 2010. Write a for loop to create this list.\n",
    "\n",
    "Tip: You can join things in if statements using and and or, like n > 3 or name == \"Peter\"\n"
   ]
  },
  {
   "cell_type": "code",
   "execution_count": 39,
   "metadata": {
    "collapsed": true
   },
   "outputs": [],
   "source": [
    "favorite = []\n",
    "for car in cars:\n",
    "\tif car['color'] == 'black'or int(car['year']) > 2010:\n",
    "\t\tfavorite.append(car) \n",
    "   "
   ]
  },
  {
   "cell_type": "code",
   "execution_count": 40,
   "metadata": {
    "collapsed": false
   },
   "outputs": [
    {
     "name": "stdout",
     "output_type": "stream",
     "text": [
      "[{'color': 'black', 'make': 'Chevrolet', 'year': '2011'}, {'color': 'black', 'make': 'Honda', 'year': '2013'}]\n"
     ]
    }
   ],
   "source": [
    "print favorite"
   ]
  },
  {
   "cell_type": "markdown",
   "metadata": {},
   "source": [
    "The problem is that the or makes no difference. So I do it with >2009. now I should have the red Honda in the list too"
   ]
  },
  {
   "cell_type": "code",
   "execution_count": 43,
   "metadata": {
    "collapsed": true
   },
   "outputs": [],
   "source": [
    "favorite = []\n",
    "for car in cars:\n",
    "\tif car['color'] == 'black'or int(car['year']) > 2009:\n",
    "\t\tfavorite.append(car)"
   ]
  },
  {
   "cell_type": "code",
   "execution_count": 44,
   "metadata": {
    "collapsed": false
   },
   "outputs": [
    {
     "name": "stdout",
     "output_type": "stream",
     "text": [
      "[{'color': 'black', 'make': 'Chevrolet', 'year': '2011'}, {'color': 'red', 'make': 'Honda', 'year': '2010'}, {'color': 'black', 'make': 'Honda', 'year': '2013'}]\n"
     ]
    }
   ],
   "source": [
    "print favorite"
   ]
  },
  {
   "cell_type": "markdown",
   "metadata": {},
   "source": [
    "a problem was the fact that the years in cars are string. The solution is:"
   ]
  },
  {
   "cell_type": "code",
   "execution_count": 31,
   "metadata": {
    "collapsed": true
   },
   "outputs": [],
   "source": [
    "favorite1 = []\n",
    "for car in cars:\n",
    "\tif int(car['year']) > 2011:\n",
    "\t\tfavorite.append(car)"
   ]
  },
  {
   "cell_type": "code",
   "execution_count": 32,
   "metadata": {
    "collapsed": false
   },
   "outputs": [
    {
     "name": "stdout",
     "output_type": "stream",
     "text": [
      "[{'color': 'black', 'make': 'Chevrolet', 'year': '2011'}, {'color': 'black', 'make': 'Honda', 'year': '2013'}, {'color': 'black', 'make': 'Honda', 'year': '2013'}]\n"
     ]
    }
   ],
   "source": [
    "print favorite"
   ]
  },
  {
   "cell_type": "code",
   "execution_count": null,
   "metadata": {
    "collapsed": true
   },
   "outputs": [],
   "source": []
  }
 ],
 "metadata": {
  "kernelspec": {
   "display_name": "Python 2",
   "language": "python",
   "name": "python2"
  },
  "language_info": {
   "codemirror_mode": {
    "name": "ipython",
    "version": 2
   },
   "file_extension": ".py",
   "mimetype": "text/x-python",
   "name": "python",
   "nbconvert_exporter": "python",
   "pygments_lexer": "ipython2",
   "version": "2.7.9"
  }
 },
 "nbformat": 4,
 "nbformat_minor": 0
}

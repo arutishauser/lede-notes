{
 "cells": [
  {
   "cell_type": "code",
   "execution_count": 1,
   "metadata": {
    "collapsed": true
   },
   "outputs": [],
   "source": [
    "name = \"Arthur\""
   ]
  },
  {
   "cell_type": "code",
   "execution_count": 3,
   "metadata": {
    "collapsed": false
   },
   "outputs": [
    {
     "data": {
      "text/plain": [
       "'**************Arthur'"
      ]
     },
     "execution_count": 3,
     "metadata": {},
     "output_type": "execute_result"
    }
   ],
   "source": [
    "name.rjust(20, '*')"
   ]
  },
  {
   "cell_type": "code",
   "execution_count": 3,
   "metadata": {
    "collapsed": false
   },
   "outputs": [],
   "source": [
    "import csv\n",
    "file = open(\"sample.csv\")\n",
    "dogs = list (csv.DictReader(file))"
   ]
  },
  {
   "cell_type": "code",
   "execution_count": 6,
   "metadata": {
    "collapsed": false
   },
   "outputs": [
    {
     "data": {
      "text/plain": [
       "{'birth': 'Jan-00',\n",
       " 'borough': 'Manhattan',\n",
       " 'breed': 'Afghan Hound',\n",
       " 'dog_name': 'Buddy',\n",
       " 'dominant_color': 'BRINDLE',\n",
       " 'gender': 'M',\n",
       " 'guard_or_trained': 'No',\n",
       " 'secondary_color': 'BLACK',\n",
       " 'spayed_or_neutered': 'Yes',\n",
       " 'third_color': 'n/a',\n",
       " 'zip_code': '10003'}"
      ]
     },
     "execution_count": 6,
     "metadata": {},
     "output_type": "execute_result"
    }
   ],
   "source": [
    "dogs[0]"
   ]
  },
  {
   "cell_type": "code",
   "execution_count": 14,
   "metadata": {
    "collapsed": false
   },
   "outputs": [
    {
     "name": "stdout",
     "output_type": "stream",
     "text": [
      "/Users/arutishauser/desktop/lede\r\n"
     ]
    }
   ],
   "source": [
    "!pwd\n"
   ]
  },
  {
   "cell_type": "raw",
   "metadata": {},
   "source": []
  },
  {
   "cell_type": "code",
   "execution_count": 9,
   "metadata": {
    "collapsed": false
   },
   "outputs": [
    {
     "ename": "SyntaxError",
     "evalue": "invalid syntax (<ipython-input-9-f0ef7081e153>, line 1)",
     "output_type": "error",
     "traceback": [
      "\u001b[0;36m  File \u001b[0;32m\"<ipython-input-9-f0ef7081e153>\"\u001b[0;36m, line \u001b[0;32m1\u001b[0m\n\u001b[0;31m    Hello world\u001b[0m\n\u001b[0m              ^\u001b[0m\n\u001b[0;31mSyntaxError\u001b[0m\u001b[0;31m:\u001b[0m invalid syntax\n"
     ]
    }
   ],
   "source": [
    "Hello world"
   ]
  },
  {
   "cell_type": "markdown",
   "metadata": {},
   "source": [
    "Hello World"
   ]
  },
  {
   "cell_type": "markdown",
   "metadata": {},
   "source": [
    "#Hallo World\n"
   ]
  },
  {
   "cell_type": "markdown",
   "metadata": {},
   "source": [
    "*jaaa*"
   ]
  },
  {
   "cell_type": "markdown",
   "metadata": {},
   "source": [
    "~~dhh"
   ]
  },
  {
   "cell_type": "markdown",
   "metadata": {},
   "source": [
    "~~bmnbmnb~~~\n"
   ]
  },
  {
   "cell_type": "markdown",
   "metadata": {},
   "source": [
    "I'm talking about `dogs``."
   ]
  },
  {
   "cell_type": "code",
   "execution_count": 12,
   "metadata": {
    "collapsed": false
   },
   "outputs": [],
   "source": [
    "numbers =[1,2,3,4,5,6,7,8,1,2,3,4,5,6,7]"
   ]
  },
  {
   "cell_type": "markdown",
   "metadata": {},
   "source": [
    "len(numbers)"
   ]
  },
  {
   "cell_type": "code",
   "execution_count": 13,
   "metadata": {
    "collapsed": false
   },
   "outputs": [
    {
     "data": {
      "text/plain": [
       "15"
      ]
     },
     "execution_count": 13,
     "metadata": {},
     "output_type": "execute_result"
    }
   ],
   "source": [
    "len(numbers)"
   ]
  },
  {
   "cell_type": "code",
   "execution_count": 14,
   "metadata": {
    "collapsed": false
   },
   "outputs": [
    {
     "data": {
      "text/plain": [
       "4"
      ]
     },
     "execution_count": 14,
     "metadata": {},
     "output_type": "execute_result"
    }
   ],
   "source": [
    "sum(numbers)/len(numbers)"
   ]
  },
  {
   "cell_type": "code",
   "execution_count": 17,
   "metadata": {
    "collapsed": false
   },
   "outputs": [
    {
     "data": {
      "text/plain": [
       "4.2666666666666666"
      ]
     },
     "execution_count": 17,
     "metadata": {},
     "output_type": "execute_result"
    }
   ],
   "source": [
    "#NumPy\n",
    "#How to find medium with NumPy\n",
    "import numpy as np\n",
    "np.average(numbers)"
   ]
  },
  {
   "cell_type": "code",
   "execution_count": 18,
   "metadata": {
    "collapsed": false
   },
   "outputs": [
    {
     "data": {
      "text/plain": [
       "64"
      ]
     },
     "execution_count": 18,
     "metadata": {},
     "output_type": "execute_result"
    }
   ],
   "source": [
    "sum(numbers)"
   ]
  },
  {
   "cell_type": "code",
   "execution_count": 19,
   "metadata": {
    "collapsed": false
   },
   "outputs": [
    {
     "data": {
      "text/plain": [
       "4.0"
      ]
     },
     "execution_count": 19,
     "metadata": {},
     "output_type": "execute_result"
    }
   ],
   "source": [
    "np.median(numbers)"
   ]
  },
  {
   "cell_type": "code",
   "execution_count": 20,
   "metadata": {
    "collapsed": false
   },
   "outputs": [
    {
     "data": {
      "text/plain": [
       "(array([2, 2, 2, 0, 2, 2, 0, 2, 2, 1]),\n",
       " array([ 1. ,  1.7,  2.4,  3.1,  3.8,  4.5,  5.2,  5.9,  6.6,  7.3,  8. ]))"
      ]
     },
     "execution_count": 20,
     "metadata": {},
     "output_type": "execute_result"
    }
   ],
   "source": [
    "np.histogram(numbers)"
   ]
  },
  {
   "cell_type": "code",
   "execution_count": 22,
   "metadata": {
    "collapsed": false
   },
   "outputs": [],
   "source": [
    "%matplotlib inline"
   ]
  },
  {
   "cell_type": "code",
   "execution_count": 23,
   "metadata": {
    "collapsed": true
   },
   "outputs": [],
   "source": [
    "import matplotlib.pyplot as plt"
   ]
  },
  {
   "cell_type": "code",
   "execution_count": 24,
   "metadata": {
    "collapsed": false
   },
   "outputs": [
    {
     "data": {
      "text/plain": [
       "(array([ 2.,  2.,  2.,  0.,  2.,  2.,  0.,  2.,  2.,  1.]),\n",
       " array([ 1. ,  1.7,  2.4,  3.1,  3.8,  4.5,  5.2,  5.9,  6.6,  7.3,  8. ]),\n",
       " <a list of 10 Patch objects>)"
      ]
     },
     "execution_count": 24,
     "metadata": {},
     "output_type": "execute_result"
    },
    {
     "data": {
      "image/png": "[encoded data removed]",
      "text/plain": [
       "<matplotlib.figure.Figure at 0x1048a0810>"
      ]
     },
     "metadata": {},
     "output_type": "display_data"
    }
   ],
   "source": [
    "plt.hist(numbers)"
   ]
  },
  {
   "cell_type": "code",
   "execution_count": 4,
   "metadata": {
    "collapsed": false
   },
   "outputs": [],
   "source": [
    "file = open(\"2.5_month.csv\")\n",
    "quakes = list(csv.DictReader(file))"
   ]
  },
  {
   "cell_type": "code",
   "execution_count": 34,
   "metadata": {
    "collapsed": false
   },
   "outputs": [
    {
     "data": {
      "text/plain": [
       "{'depth': '116.4',\n",
       " 'dmin': '',\n",
       " 'gap': '',\n",
       " 'id': 'ak11622703',\n",
       " 'latitude': '56.4325',\n",
       " 'longitude': '-156.2994',\n",
       " 'mag': '3.2',\n",
       " 'magType': 'ml',\n",
       " 'net': 'ak',\n",
       " 'nst': '',\n",
       " 'place': '79km NNW of Chirikof Island, Alaska',\n",
       " 'rms': '0.65',\n",
       " 'time': '2015-06-10T15:33:47.000Z',\n",
       " 'type': 'earthquake',\n",
       " 'updated': '2015-06-10T15:52:30.305Z'}"
      ]
     },
     "execution_count": 34,
     "metadata": {},
     "output_type": "execute_result"
    }
   ],
   "source": [
    "quakes[0]"
   ]
  },
  {
   "cell_type": "code",
   "execution_count": 5,
   "metadata": {
    "collapsed": false
   },
   "outputs": [
    {
     "ename": "KeyError",
     "evalue": "'depths'",
     "output_type": "error",
     "traceback": [
      "\u001b[0;31m---------------------------------------------------------------------------\u001b[0m",
      "\u001b[0;31mKeyError\u001b[0m                                  Traceback (most recent call last)",
      "\u001b[0;32m<ipython-input-5-a82bd06ba0c5>\u001b[0m in \u001b[0;36m<module>\u001b[0;34m()\u001b[0m\n\u001b[0;32m----> 1\u001b[0;31m \u001b[0mdepths\u001b[0m\u001b[0;34m=\u001b[0m\u001b[0;34m[\u001b[0m\u001b[0mfloat\u001b[0m\u001b[0;34m(\u001b[0m\u001b[0mquake\u001b[0m\u001b[0;34m[\u001b[0m\u001b[0;34m'depths'\u001b[0m\u001b[0;34m]\u001b[0m\u001b[0;34m)\u001b[0m \u001b[0;32mfor\u001b[0m \u001b[0mquake\u001b[0m \u001b[0;32min\u001b[0m \u001b[0mquakes\u001b[0m\u001b[0;34m]\u001b[0m\u001b[0;34m\u001b[0m\u001b[0m\n\u001b[0m",
      "\u001b[0;31mKeyError\u001b[0m: 'depths'"
     ]
    }
   ],
   "source": [
    "depths=[float(quake['depths']) for quake in quakes]"
   ]
  },
  {
   "cell_type": "code",
   "execution_count": 41,
   "metadata": {
    "collapsed": false
   },
   "outputs": [
    {
     "name": "stdout",
     "output_type": "stream",
     "text": [
      "[116.4, 15.306, 121.58, 77.1, 4.78, 49.8, 577.48, 50.79, 554.24, 0.54, 32.18, 89.0, 90.0, 19.78, 39.3, 26.05, 89.4, 62.5, 16.4, 496.53, 59.0, 62.0, 78.0, 5.17, 57.1, 52.88, 39.84, 99.21, 46.0, 186.83, 70.0, 19.0, 10.48, 10.0, 2.13, 4.753, 5.098, 13.45, 26.48, 27.81, 65.14, 199.93, 10.0, 18.5, 14.0, 17.88, 93.3, 14.91, 43.4, 16.87, 75.4, 1.84, 10.0, 167.7, 34.0, 58.0, 14.81, 5.0, 5.76, 10.0, 10.0, 15.48, 8.28, 3.0, 5.0, 60.61, 5.0, 6.602, 55.0, 2.9, 6.263, 22.41, 72.4, 5.552, 35.0, 45.07, 183.0, 139.25, 65.21, 4.027, 10.0, 10.0, 10.0, 33.8, 50.22, 3.84, 6.42, 140.71, 47.0, 157.0, 522.95, 6.24, 198.44, 186.98, 11.62, 2.5, 5.0, 5.57, 17.0, 39.0, 136.14, 10.0, 5.0, 126.1, 3.37, 35.0, 3.85, 71.7, 55.31, 54.8, 107.3, 5.8, 5.0, 97.34, 2.04, 33.2, 143.1, 26.76, 55.0, 11.41, 52.44, 32.37, 377.6, 12.23, 10.0, 23.09, 35.0, 10.0, 44.1, 48.95, 6.22, 5.0, 17.4, 87.5, 78.29, 5.0, 66.89, 5.87, 67.92, 10.0, 45.0, 10.0, 30.92, 133.96, 9.6, 3.37, 4.65, 7.36, 52.34, 11.87, 25.8, 31.0, 46.0, 5.237, 4.632, 33.35, 73.01, 10.0, 41.3, 109.22, 28.4, 26.6, 3.98, 25.0, 58.6, 80.0, 56.0, 32.0, 15.22, 157.04, 100.9, 20.17, 4.59, 4.38, 82.55, 8.26, 241.11, 14.7, 10.0, 101.6, 8.54, 29.55, 33.76, 10.0, 30.0, 9.1, 2.7, 41.4, 124.24, 6.06, 30.65, 52.0, 5.12, 19.22, 105.7, 10.0, 108.0, 10.0, 32.05, 3.76, 17.67, 178.39, 146.8, 64.0, 25.0, 214.6, 20.51, 16.6, 91.0, 31.0, 30.0, 3.11, 37.0, 58.0, 42.0, 71.78, 26.0, 53.0, 44.0, 33.0, 36.0, 60.0, 24.0, 12.0, 23.3, 45.1, 57.0, 6.1, 5.0, 43.8, 43.1, 186.03, 35.0, 119.0, 21.37, 112.4, 32.63, 38.94, 36.0, 40.2, 11.0, 10.0, 10.0, 24.5, 417.3, 10.0, 120.4, 29.0, 53.12, 41.0, 33.96, 15.0, 10.0, 680.77, 667.96, 5.0, 11.38, 7.0, 4.54, 208.6, 34.0, 18.0, 45.06, 18.0, 44.0, 26.0, 36.0, 49.2, 105.67, 41.5, 66.0, 7.16, 3.15, 681.39, 37.77, 8.4, 57.87, 6.683, 8.12, 50.09, 6.898, 154.42, 168.3, 1.0, 76.3, 15.0, 3.7, 67.9, 56.6, 17.63, 65.2, 24.0, 57.0, 119.32, 7.0, 5.0, 10.0, 62.0, 127.1, 135.0, 5.0, 52.0, 10.0, 10.0, 76.1, 43.0, 3.89, 43.0, 5.35, 10.0, 22.7, 420.54, 536.66, 141.69, 51.35, 5.0, 8.211, 6.55, 71.0, 4.189, 10.0, 6.269, 6.23, 30.77, 28.5, 5.973, 74.0, 10.0, 111.61, 5.28, 4.333, 80.31, 10.0, 36.5, 31.18, 8.75, 15.0, 476.71, 10.0, 10.0, 31.0, 115.94, 137.1, 10.0, 11.5, 7.0, 23.0, 10.0, 10.0, 39.6, 25.7, 8.4, 4.9, 5.08, 107.06, 113.47, 100.54, 57.2, 3.3, 10.0, 10.0, 11.8, 48.8, 8.86, 241.6, 150.71, 10.0, 38.14, 25.0, 49.17, 59.9, 20.0, 34.77, 3.96, 10.0, 13.23, 67.35, 206.6, 29.05, 32.53, 71.1, 427.36, 7.81, 4.84, 35.0, 82.6, 173.4, 107.75, 10.2, 76.3, 52.9, 6.0, 57.0, 66.3, 13.7, 26.9, 35.44, 5.0, 57.18, 86.45, 106.89, 20.0, 10.12, 78.0, 64.0, 25.0, 38.0, 23.8, 61.15, 139.56, 23.7, 50.67, 234.85, 28.75, 58.0, 64.8, 91.0, 0.5, 34.25, 226.4, 45.0, 677.56, 5.0, 5.0, 75.6, 119.07, 35.0, 29.54, 20.4, 3.4, 92.3, 9.37, 31.85, 7.75, 53.42, 32.6, 75.4, 8.79, 10.0, 5.05, 596.86, 10.0, 25.85, 10.0, 12.0, 63.8, 67.4, 67.4, 24.0, 3.05, 97.62, 40.7, 68.2, 55.74, 84.5, 53.2, 13.0, 14.3, 65.53, 377.12, 61.4, 4.857, 84.5, 62.2, 10.0, 59.5, 12.26, 10.0, 40.1, 62.0, 55.2, 71.8, 87.1, 37.8, 15.25, 12.31, 72.6, 25.0, 3.18, 52.24, 165.32, 13.2, 113.97, 399.14, 4.565, 57.44, 10.0, 159.1, 14.0, 22.92, 5.0, 5.0, 13.54, 20.65, 14.0, 10.37, 11.1, 4.62, 35.94, 10.0, 29.0, 48.0, 41.3, 30.29, 5.0, 34.96, 15.0, 29.0, 45.0, 71.0, 15.56, 55.64, 2.5, 38.35, 7.63, 142.1, 14.0, 53.0, 5.58, 76.0, 2.08, 13.0, 49.4, 39.0, 6.113, 196.29, 81.56, 35.0, 112.85, 156.0, 67.0, 14.64, 10.0, 12.4, 34.0, 4.9, 77.22, 5.0, 6.41, 56.8, 7.1055, 23.18, 36.7, 10.0, 8.5243, 6.0281, 150.21, 5.0, 35.0, 186.0, 8.8594, 60.7, 93.0, 35.0, 35.0, 3.43, 4.214, 32.0, 39.0, 8.7, 10.0, 40.4, 586.33, 40.19, 19.96, 6.973, 67.83, 33.82, 38.96, 44.19, 49.79, 6.817, 28.2, 6.915, 9.0, 51.3, 16.83, 7.26, 7.07, 43.68, 10.0, 7.221, 34.8, 121.4, 78.0, 115.06, 19.99, 17.76, 42.1, 69.67, 37.91, 59.44, 36.0, 35.0, 61.4, 17.0, 110.3, 7.6, 15.13, 6.29, 20.43, 132.23, 78.9, 204.14, 203.07, 13.45, 10.0, 18.6, 29.4, 41.7, 46.8, 91.8, 43.3, 30.05, 10.0, 53.0, 80.0, 12.0, 22.95, 36.14, 35.2, 5.9, 588.22, 98.09, 42.07, 36.0, 30.66, 21.0, 11.0, 8.78, 185.54, 10.0, 386.51, 12.0, 35.0, 24.5, 576.12, 70.84, 42.0, 35.0, 37.0, 102.0, 11.9, 8.72, 10.0, 31.33, 10.0, 36.0, 5.7363, 5.87, 10.0, 36.64, 0.9, 11.4, 10.0, 0.0, 0.0, 3.0, 10.0, 59.9, 13.04, 144.83, 563.74, 116.73, 179.84, 7.35, 47.35, 38.97, 23.92, 129.46, 109.47, 20.16, 10.0, 78.69, 40.0, 6.44, 32.0, 8.0, 4.33, 10.0, 51.0, 40.0, 10.0, 108.64, 29.0, 136.45, 10.0, 10.56, 161.71, 10.0, 7.2, 52.9, 40.03, 593.02, 50.47, 2.75, 59.0, 11.92, 5.0, 14.3, 39.84, 19.04, 19.87, 124.18, 40.0, 50.79, 115.6, 41.01, 99.2, 5.43, 86.0, 10.0, 19.36, 79.08, 47.0, 10.0, 11.07, 16.23, 53.7, 10.0, 20.0, 26.0, 410.7, 25.74, 10.0, 10.0, 10.0, 10.0, 6.52, 75.5, 52.7, 10.0, 6.46, 10.0, 11.24, 5.0, 183.64, 5.8867, 17.37, 32.57, 7.4772, 10.0, 9.6227, 0.0, 4.0328, 33.2, 8.0, 45.59, 251.5, 212.28, 29.9, 19.0, 35.85, 121.74, 16.09, 10.0, 32.2, 10.0, 7.94, 63.23, 59.0, 4.72, 96.9, 10.0, 82.82, 5.0, 26.7, 50.37, 78.0, 27.11, 100.0, 13.03, 10.0, 133.28, 114.7, 537.96, 10.9, 7.013, 125.3, 67.77, 2.92, 45.38, 5.0, 26.0, 24.8, 14.33, 7.74, 147.6, 19.55, 233.8, 9.3536, 17.54, 148.3, 29.9, 30.5, 97.4, 68.8, 18.98, 10.0, 11.12, 4.498, 63.0, 60.4, 113.48, 231.8, 28.0, 66.75, 3.35, 10.0, 5.0, 3.7, 3.53, 41.5, 66.7, 5.69, 5.5, 3.55, 138.39, 59.0, 5.283, 10.0, 29.95, 43.5, 155.86, 118.0, 10.0, 64.9, 10.0, 12.0, 42.16, 78.4, 20.0, 37.74, 95.71, 49.28, 35.0, 134.2, 539.9, 61.8, 120.63, 144.15, 10.15, 423.87, 21.4, 5.0, 8.6, 17.34, 86.6, 21.43, 6.243, 10.0, 10.0, 19.0, 13.0, 11.24, 12.7, 41.67, 10.0, 201.0, 97.51, 44.9, 5.0, 122.9, 55.03, 3.759, 32.2, 532.24, 4.87, 83.8, 16.42, 8.423, 22.82, 54.9, 3.683, 0.02, 36.74, 56.37, 40.0, 10.0, 96.1, 10.19, 1.84, 21.29, 50.0, 22.64, 7.56, 197.99, 35.0, 10.0, 39.31, 24.0, 10.0, 3.89, 388.67, 19.0, 5.285, 41.78, 11.08, 14.75, 35.88, 4.11, 3.32, 9.94, 195.6, 15.9, 532.95, 10.0, 199.95, 34.56, 6.837, 26.59, 151.11, 37.98, 10.0, 9.0, 4.29, 10.0, 13.0, 22.7, 559.35, 39.35, 4.659, 2.5, 10.0, 47.51, 48.74, 85.93, 6.2, 50.83, 5.0, 14.0, 10.0, 6.318, 26.99, 14.5, 32.0, 2.79, 20.61, 20.0, 40.37, 238.75, 8.6, 132.71, 35.58, 150.42, 21.0, 30.55, 5.0, 10.0, 36.0, 13.0, 18.0, 10.0, 7.0, 17.96, 57.63, 59.0, 9.0, 65.2, 11.97, 45.83, 5.398, 5.71, 265.53, 23.5, 16.5, 4.582, 10.0, 6.202, 5.227, 165.0, 6.48, 105.54, 6.44, 3.393, 21.0, 26.5, 37.04, 6.0, 1.47, 5.0, 29.14, 24.2, 67.6, 24.37, 107.86, 1.31, 25.65, 11.68, 1.45, 5.0, 0.43, 5.0, 9.02, 149.9, 3.97, 58.0, 35.79, 58.02, 3.3, 16.9, 58.92, 45.6, 53.0, 149.6, 25.0, 39.33, 15.1, 40.09, 83.65, 6.8072, 39.33, 10.0, 486.75, 60.64, 0.03, 70.9, 24.42, 30.22, 82.3, 50.0, 17.61, 62.4, 3.82, 10.0, 24.86, 10.0, 8.3461, 22.37, 10.0, 258.91, 122.0, 8.0, 36.0, 10.0, 10.0, 0.201, 24.7, 113.7, 34.59, 8.0, 9.5, 10.0, 32.0, 1.57, 1.47, 22.37, 4.76, 5.0, 40.08, 125.3, 7.4, 6.86, 32.0, 10.0, 2.34, 37.0, 29.0, 2.86, 69.0, 10.0, 23.39, 37.0, 257.8, 27.0, 37.0, 7.0, 6.0, 10.0, 50.0, 6.4, 167.0, 144.75, 24.5, 7.59, 14.02, 66.36, 81.0, 158.73, 131.5, 22.27, 10.0, 15.29, 2.76, 4.396, 151.0, 1.91, 131.4, 26.0, 438.0, 5.99, 2.91, 3.874, 305.47, 2.66, 75.99, 48.15, 50.14, 52.9, 6.154, 49.6, 167.0, 12.5, 10.0, 2.74, 35.0, 10.0, 2.81, 32.4, 161.43, 5.34, 2.55, 20.28, 35.0, 5.0, 10.0, 52.14, 108.79, 52.0, 12.4, 10.4, 5.0, 2.94, 86.0, 61.0, 2.78, 88.9, 40.43, 17.24, 6.7, 10.0, 2.7, 6.41, 10.0, 24.65, 35.0, 21.36, 563.49, 18.79, 83.44, 10.0, 289.87, 3.727, 51.58, 15.8, 368.34, 294.94, 9.0, 21.44, 152.88, 18.06, 15.54, 17.81, 49.35, 35.54, 10.0, 69.19, 52.33, 45.77, 42.93, 500.77, 50.36, 35.0, 54.03, 5.0, 27.95, 13.55, 56.38, 34.0, 10.79, 5.2, 78.1, 5.0, 97.0, 10.0, 6.208, 45.13, 42.85, 35.0, 124.29, 23.4, 5.555, 465.34, 10.0, 3.243, 6.39, 143.36, 39.65, 3.616, 11.49, 10.0, 196.54, 10.0, 209.48, 28.64, 28.0, 54.97, 35.0, 43.49, 15.2, 146.92, 38.04, 41.4, 47.49, 155.68, 43.42, 27.0, 8.2, 0.02, 119.9, 10.0, 614.22, 3.4, 17.5, 58.0, 10.0, 10.0, 10.0, 3.35, 75.0, 1.0, 111.06, 29.0, 0.26, 32.5, 32.11, 10.0, 42.72, 55.2, 10.0, 9.7, 18.17, 85.51, 435.62, 53.4, 15.36, 55.63, 8.03, 1.12, 36.0, 10.0, 3.888, 10.0, 35.0, 10.0, 35.0, 35.0, 396.81, 40.14, 8.31, 20.53, 9.82, 41.84, 150.03, 10.0, 8.52, 5.898, 10.93, 62.84, 3.742, 13.45, 15.68, 54.85, 109.63, 99.4, 22.1, 64.26, 48.57, 35.0, 10.0, 86.97, 7.77, 169.8, 3.522, 13.73, 10.0, 105.25, 178.73, 10.0, 13.71, 10.0, 10.0, 12.08, 10.0, 10.0, 10.0, 10.0, 10.0, 4.03, 10.0, 95.22, 10.0, 10.0, 10.0, 16.34, 10.0, 15.0, 15.0, 10.0, 15.0, 10.0, 10.0, 146.95, 10.0, 10.0, 10.0, 13.93, 15.0, 10.0, 10.0, 10.0, 10.0, 156.24, 10.0, 12.09, 15.0, 29.72, 9.83, 5.0, 92.12, 35.0, 35.38, 63.68, 50.44, 10.0, 2.0, 2.52, 92.6, 6.332, 15.18, 6.8, 603.91, 93.6, 26.0, 44.0, 212.41, 4.88, 555.55, 38.17, 6.42, 8.701, 10.0, 10.0, 5.0, 56.5, 108.97]\n"
     ]
    }
   ],
   "source": [
    "print depths\n"
   ]
  },
  {
   "cell_type": "code",
   "execution_count": 6,
   "metadata": {
    "collapsed": false
   },
   "outputs": [],
   "source": [
    "magnitudes=[float(mag['mag']) for mag in quakes]"
   ]
  },
  {
   "cell_type": "code",
   "execution_count": 7,
   "metadata": {
    "collapsed": false
   },
   "outputs": [
    {
     "name": "stdout",
     "output_type": "stream",
     "text": [
      "[3.2, 2.55, 6.0, 3.7, 3.7, 3.7, 4.8, 4.7, 5.0, 2.54, 4.9, 2.6, 2.7, 4.7, 2.5, 5.5, 4.7, 3.6, 2.6, 4.2, 2.7, 2.7, 3.4, 2.7, 3.9, 4.9, 4.8, 4.3, 2.6, 4.4, 2.9, 2.5, 3.83, 5.4, 2.5, 3.3, 2.6, 5.0, 4.7, 4.5, 4.3, 4.6, 4.1, 4.0, 2.7, 4.3, 2.7, 5.1, 4.4, 4.7, 4.1, 2.62, 4.9, 4.6, 2.7, 3.4, 4.6, 4.1, 5.2, 4.8, 5.6, 4.7, 2.53, 3.9, 2.7, 4.5, 2.5, 2.8, 3.1, 2.94, 2.5, 5.3, 2.6, 2.8, 4.8, 4.9, 4.1, 4.3, 4.7, 3.9, 4.8, 4.7, 5.1, 4.7, 4.9, 2.74, 2.5, 4.6, 6.1, 3.7, 4.4, 3.4, 4.4, 4.5, 5.0, 2.5, 3.3, 2.7, 2.6, 3.0, 4.7, 5.0, 3.2, 2.7, 2.91, 4.8, 2.6, 2.8, 4.8, 2.6, 3.0, 3.15, 2.7, 4.2, 2.8, 4.5, 2.5, 4.8, 2.7, 3.2, 4.5, 4.5, 4.6, 4.1, 5.0, 4.3, 4.7, 4.5, 2.8, 5.2, 3.0, 2.8, 2.5, 3.1, 4.6, 2.9, 4.8, 2.63, 4.4, 4.6, 3.0, 4.5, 4.9, 4.4, 3.6, 4.1, 3.6, 3.2, 4.8, 5.0, 3.4, 2.9, 2.8, 3.2, 3.0, 4.7, 4.8, 5.0, 2.8, 4.9, 2.5, 2.7, 2.8, 3.0, 2.9, 2.5, 3.4, 2.8, 4.7, 4.7, 3.3, 5.1, 2.8, 3.31, 4.0, 3.18, 4.1, 2.6, 6.0, 2.6, 5.0, 4.2, 4.6, 4.1, 3.0, 2.6, 2.9, 3.6, 4.9, 3.4, 4.4, 2.8, 3.52, 2.82, 2.6, 4.8, 2.5, 4.8, 5.0, 3.0, 2.76, 4.9, 2.5, 2.6, 2.8, 4.4, 4.8, 4.8, 2.9, 2.7, 2.8, 2.96, 2.7, 3.0, 2.9, 4.8, 3.0, 2.8, 3.1, 2.9, 2.8, 3.1, 3.0, 3.1, 2.8, 3.2, 3.0, 2.66, 2.8, 2.71, 2.55, 4.3, 4.8, 3.0, 5.0, 2.8, 4.2, 4.2, 2.7, 3.8, 3.0, 4.0, 3.1, 2.8, 4.1, 4.6, 2.5, 2.5, 4.7, 2.7, 4.7, 2.9, 4.8, 4.9, 5.0, 3.5, 2.66, 2.6, 2.7, 2.6, 2.5, 3.5, 4.8, 2.6, 3.2, 2.6, 2.8, 3.5, 4.8, 3.0, 2.7, 3.5, 2.67, 4.9, 5.0, 2.8, 4.4, 2.8, 2.6, 4.7, 2.6, 4.6, 3.0, 3.5, 2.5, 4.6, 3.46, 3.3, 2.9, 5.3, 2.5, 2.6, 2.5, 5.0, 2.6, 3.7, 4.8, 2.5, 4.4, 2.9, 2.7, 3.3, 4.2, 3.9, 3.1, 3.2, 3.51, 2.6, 3.0, 5.1, 2.5, 4.2, 4.7, 4.8, 5.1, 2.7, 2.5, 3.3, 2.6, 2.5, 5.9, 3.5, 3.6, 4.6, 2.5, 3.1, 3.2, 4.4, 4.9, 2.91, 2.9, 5.0, 5.2, 2.5, 5.0, 4.3, 2.8, 4.7, 4.8, 5.5, 3.0, 5.0, 2.6, 4.6, 2.8, 2.9, 2.7, 4.3, 5.8, 2.5, 2.9, 3.2, 2.9, 2.5, 4.5, 4.1, 4.6, 3.0, 2.9, 4.0, 4.4, 4.3, 2.5, 3.6, 2.6, 4.8, 4.6, 5.1, 2.7, 4.5, 2.6, 4.9, 4.5, 3.17, 4.6, 3.59, 4.4, 2.6, 4.4, 4.7, 3.5, 4.4, 3.07, 2.56, 5.0, 3.4, 2.7, 4.3, 2.8, 2.5, 2.6, 2.8, 3.1, 2.5, 2.9, 3.3, 4.8, 3.1, 5.3, 4.8, 5.4, 2.8, 6.2, 2.9, 2.8, 2.7, 3.1, 2.5, 4.7, 4.8, 5.9, 5.0, 4.6, 4.2, 2.9, 2.6, 3.3, 3.4, 4.6, 2.7, 3.0, 7.8, 3.8, 2.6, 2.5, 4.0, 5.0, 4.5, 3.8, 2.6, 2.7, 4.7, 5.3, 3.7, 4.8, 2.6, 4.9, 2.62, 4.7, 4.2, 4.5, 4.4, 3.4, 4.8, 2.6, 2.5, 2.7, 2.7, 3.1, 2.65, 4.3, 2.5, 2.7, 4.8, 2.5, 3.1, 2.8, 3.4, 4.9, 4.4, 3.9, 2.7, 2.5, 2.9, 4.8, 3.0, 2.87, 5.1, 2.5, 3.8, 3.5, 2.9, 3.2, 3.8, 2.71, 2.85, 6.7, 2.9, 2.68, 5.2, 4.6, 2.6, 4.3, 4.0, 2.5, 4.4, 4.0, 2.6, 2.8, 4.6, 2.7, 2.5, 2.65, 4.2, 2.5, 3.45, 3.26, 3.9, 4.7, 4.5, 3.2, 3.0, 3.2, 4.8, 2.8, 4.5, 2.6, 2.9, 2.8, 2.8, 4.4, 4.2, 2.5, 4.3, 3.0, 2.5, 3.1, 2.9, 3.1, 2.9, 2.93, 2.5, 4.4, 2.7, 2.6, 4.0, 4.9, 4.8, 4.8, 3.2, 2.7, 3.0, 4.4, 3.0, 2.8, 2.8, 4.8, 2.5, 2.59, 2.6, 3.06, 4.6, 3.3, 2.9, 3.17, 2.62, 4.8, 3.59, 4.7, 4.4, 3.34, 2.8, 2.8, 5.4, 5.3, 3.0, 2.5, 5.4, 2.6, 3.7, 4.6, 2.6, 4.8, 2.86, 4.4, 3.0, 4.3, 4.5, 4.6, 5.3, 5.0, 2.5, 2.6, 3.0, 3.0, 2.6, 2.97, 3.0, 2.6, 4.8, 3.8, 3.0, 2.5, 2.7, 3.3, 5.7, 4.34, 4.3, 3.1, 4.8, 4.5, 4.3, 3.2, 2.8, 2.6, 3.1, 2.6, 4.1, 4.6, 2.61, 4.9, 4.1, 2.7, 4.1, 4.7, 4.8, 4.7, 2.5, 5.3, 2.8, 4.0, 2.9, 3.5, 4.5, 5.3, 3.0, 3.8, 2.7, 3.8, 2.7, 2.6, 3.2, 4.3, 4.1, 4.8, 2.7, 5.3, 3.1, 3.4, 2.7, 4.5, 4.7, 5.1, 2.6, 5.3, 2.5, 4.2, 5.5, 2.6, 2.8, 3.4, 2.8, 2.9, 5.2, 4.9, 3.9, 5.2, 3.0, 2.64, 3.4, 4.3, 5.8, 2.7, 2.7, 4.8, 2.89, 3.59, 2.5, 4.5, 3.3, 6.2, 4.7, 4.3, 4.3, 4.3, 2.68, 4.1, 4.6, 4.8, 4.6, 4.1, 2.58, 4.4, 4.0, 3.1, 2.7, 2.9, 3.3, 2.84, 6.3, 3.1, 3.0, 4.9, 4.8, 3.4, 4.8, 5.0, 2.66, 4.5, 4.7, 2.7, 2.6, 4.9, 4.4, 5.9, 4.0, 2.6, 3.09, 3.3, 2.8, 4.8, 4.8, 2.71, 5.1, 3.4, 4.6, 2.8, 4.5, 3.1, 3.5, 3.0, 4.7, 2.8, 4.6, 2.9, 4.7, 3.41, 2.9, 3.9, 4.7, 2.6, 2.9, 4.7, 4.2, 4.9, 5.3, 5.1, 6.8, 2.8, 3.8, 3.6, 4.9, 4.3, 5.1, 6.9, 2.9, 4.5, 3.52, 5.2, 4.9, 3.0, 4.3, 3.83, 2.79, 4.83, 3.3, 2.7, 4.4, 4.8, 4.4, 2.6, 3.0, 5.2, 5.0, 4.2, 4.2, 4.8, 4.7, 3.5, 4.9, 3.2, 3.16, 3.5, 4.2, 4.6, 2.8, 3.4, 4.6, 3.4, 3.27, 2.7, 4.09, 3.7, 4.3, 2.6, 4.9, 2.6, 2.6, 3.2, 4.1, 2.63, 4.6, 5.7, 2.6, 2.8, 4.1, 4.7, 3.2, 4.6, 4.5, 2.67, 4.6, 2.5, 2.6, 4.5, 2.5, 4.2, 4.8, 4.9, 4.6, 3.3, 2.5, 2.7, 4.6, 3.1, 3.1, 4.2, 3.32, 4.4, 2.8, 2.57, 3.28, 2.7, 2.8, 2.75, 2.89, 4.1, 4.6, 5.1, 3.0, 4.5, 4.3, 2.5, 4.5, 3.4, 4.6, 2.6, 4.9, 6.8, 5.0, 2.5, 2.5, 4.5, 4.4, 5.5, 4.8, 4.2, 4.5, 4.2, 4.4, 4.1, 4.2, 4.3, 3.0, 2.9, 3.0, 4.3, 2.6, 4.2, 3.0, 4.4, 2.5, 3.2, 2.9, 5.5, 3.0, 4.3, 4.0, 6.0, 4.2, 2.8, 2.9, 2.5, 4.6, 2.7, 2.8, 4.2, 2.6, 2.8, 4.4, 2.8, 2.98, 2.6, 2.6, 3.82, 4.4, 4.4, 3.0, 4.7, 2.6, 6.7, 2.78, 4.9, 5.8, 4.7, 3.03, 4.2, 4.7, 4.1, 4.9, 2.6, 5.2, 2.59, 4.3, 3.1, 2.6, 4.2, 2.6, 2.61, 4.2, 2.7, 2.87, 4.9, 4.7, 2.7, 4.5, 3.9, 4.6, 4.9, 2.9, 4.7, 4.5, 3.9, 4.0, 2.7, 3.04, 4.4, 3.0, 2.7, 4.4, 4.1, 3.0, 2.54, 4.6, 5.0, 4.4, 5.1, 2.6, 4.2, 3.3, 2.7, 5.7, 3.0, 4.3, 4.3, 2.6, 3.2, 4.5, 2.6, 4.3, 4.2, 2.8, 4.7, 4.1, 4.2, 2.9, 4.1, 3.3, 4.8, 2.8, 2.9, 2.9, 4.9, 2.7, 4.6, 4.5, 2.8, 5.7, 3.9, 2.73, 4.3, 3.5, 2.63, 4.5, 2.6, 2.5, 2.8, 4.6, 2.8, 3.0, 3.4, 4.0, 4.0, 3.16, 2.6, 3.8, 2.9, 4.5, 2.7, 2.56, 3.1, 4.4, 2.8, 3.6, 2.5, 4.5, 2.82, 3.37, 5.4, 2.76, 3.0, 3.33, 3.1, 2.9, 2.6, 4.8, 3.0, 5.2, 4.7, 3.3, 2.5, 4.5, 4.5, 2.6, 3.8, 2.7, 4.1, 5.1, 4.4, 4.3, 3.2, 4.5, 3.0, 4.3, 4.2, 2.67, 3.9, 4.2, 5.4, 3.3, 2.6, 4.9, 2.7, 2.53, 4.3, 4.4, 4.9, 2.73, 4.6, 5.0, 4.4, 3.0, 2.6, 2.8, 4.4, 4.6, 2.6, 2.8, 2.6, 4.3, 2.8, 3.0, 4.7, 2.7, 3.33, 3.09, 4.0, 2.77, 3.0, 4.3, 4.2, 3.1, 3.1, 3.0, 5.7, 2.67, 2.8, 3.1, 2.62, 2.6, 4.5, 4.4, 3.3, 2.9, 2.9, 3.2, 2.9, 3.1, 4.7, 2.9, 3.34, 3.5, 5.1, 2.8, 2.53, 2.96, 4.9, 3.1, 4.5, 2.5, 4.1, 4.9, 4.9, 3.0, 2.5, 6.0, 3.9, 4.3, 3.1, 4.0, 2.5, 3.19, 2.8, 4.3, 2.6, 2.5, 4.6, 5.1, 2.6, 2.8, 2.5, 2.9, 2.7, 5.3, 2.88, 2.8, 4.7, 2.52, 5.5, 5.0, 2.73, 2.5, 2.81, 4.7, 2.8, 4.7, 4.6, 4.3, 2.7, 3.5, 4.5, 3.1, 2.7, 3.6, 2.8, 2.69, 4.8, 5.1, 4.8, 3.2, 4.9, 2.65, 3.05, 5.1, 4.6, 4.6, 4.6, 4.5, 4.6, 4.5, 4.3, 4.4, 3.2, 4.8, 4.0, 5.1, 4.2, 2.5, 4.2, 4.4, 4.1, 4.4, 5.3, 4.7, 5.1, 3.8, 4.6, 5.1, 5.3, 4.9, 4.6, 5.4, 2.5, 4.9, 3.3, 4.8, 2.73, 4.9, 3.4, 2.93, 2.5, 2.5, 3.1, 3.4, 4.4, 2.5, 4.3, 4.8, 4.6, 4.9, 4.5, 2.6, 4.2, 4.9, 2.5, 5.0, 4.3, 4.3, 2.7, 4.4, 4.3, 4.4, 5.2, 4.8, 4.5, 2.6, 4.5, 4.3, 4.7, 4.0, 4.3, 4.4, 4.4, 4.5, 4.5, 4.4, 4.6, 2.7, 2.52, 3.2, 4.0, 4.8, 3.1, 3.0, 3.2, 4.7, 4.4, 4.8, 2.77, 2.7, 2.6, 3.3, 3.0, 2.54, 3.5, 4.2, 4.1, 4.5, 5.0, 4.1, 2.62, 4.5, 4.3, 4.3, 2.5, 4.5, 5.0, 2.5, 2.56, 2.8, 4.0, 3.2, 5.2, 6.8, 4.3, 4.5, 4.6, 4.1, 4.4, 4.0, 4.2, 2.64, 4.7, 4.4, 4.0, 4.5, 2.6, 4.3, 4.8, 2.5, 4.1, 4.0, 4.4, 4.4, 2.8, 2.7, 5.0, 4.7, 4.6, 4.8, 4.6, 4.4, 2.7, 3.1, 4.4, 5.0, 4.5, 4.5, 4.4, 2.66, 4.3, 4.2, 2.64, 4.2, 4.5, 4.3, 5.0, 4.6, 4.3, 4.0, 4.2, 4.3, 4.0, 4.4, 4.3, 4.8, 5.2, 5.1, 4.3, 5.0, 4.2, 4.5, 2.9, 4.5, 4.9, 4.9, 4.9, 6.3, 5.4, 4.1, 5.0, 4.8, 5.2, 4.9, 5.5, 7.3, 5.1, 4.7, 2.5, 4.3, 4.3, 4.7, 4.3, 4.3, 4.7, 3.5, 3.13, 3.9, 2.6, 4.3, 4.0, 4.3, 2.8, 2.7, 2.6, 4.1, 4.8, 4.5, 4.3, 2.6, 2.8, 4.7, 5.3, 2.5, 2.7, 4.5]\n"
     ]
    }
   ],
   "source": [
    "print magnitudes"
   ]
  },
  {
   "cell_type": "markdown",
   "metadata": {},
   "source": [
    "#Question 4 a\n",
    "Given the following, write code to calculate how many murders we have in total.\n",
    "\n",
    "murders = { 'Albany': 23, 'Kings County': 10, 'Rochester': 7, 'Yonkers: 9 }\n"
   ]
  },
  {
   "cell_type": "code",
   "execution_count": 8,
   "metadata": {
    "collapsed": false
   },
   "outputs": [
    {
     "data": {
      "text/plain": [
       "23"
      ]
     },
     "execution_count": 8,
     "metadata": {},
     "output_type": "execute_result"
    }
   ],
   "source": [
    "murders = {'Albany': 23, 'Kings': 10, 'Rochester': 7, 'Yonkers':9}\n",
    "murders['Albany']"
   ]
  },
  {
   "cell_type": "code",
   "execution_count": 9,
   "metadata": {
    "collapsed": false
   },
   "outputs": [
    {
     "name": "stdout",
     "output_type": "stream",
     "text": [
      "49\n"
     ]
    }
   ],
   "source": [
    "total = 0\n",
    "for county in murders.keys():\n",
    "    total = total + murders[county]\n",
    "print total"
   ]
  },
  {
   "cell_type": "markdown",
   "metadata": {},
   "source": [
    "#Question 4b\n",
    "Write code to calculate the percentage of the murders happened in Kings County."
   ]
  },
  {
   "cell_type": "code",
   "execution_count": 13,
   "metadata": {
    "collapsed": false
   },
   "outputs": [
    {
     "data": {
      "text/plain": [
       "46.93877551020408"
      ]
     },
     "execution_count": 13,
     "metadata": {},
     "output_type": "execute_result"
    }
   ],
   "source": [
    "float(murders['Albany'])/total*100"
   ]
  },
  {
   "cell_type": "markdown",
   "metadata": {},
   "source": [
    "**Question 4**\n",
    "We have a list called numbers, but we had an off-by-one error: add one to every element of the list, then sum the results. Do this in one line."
   ]
  },
  {
   "cell_type": "code",
   "execution_count": 15,
   "metadata": {
    "collapsed": true
   },
   "outputs": [],
   "source": [
    "liste3=[1,2,3,4,5,6,7,8,9]"
   ]
  },
  {
   "cell_type": "code",
   "execution_count": 17,
   "metadata": {
    "collapsed": false
   },
   "outputs": [
    {
     "name": "stdout",
     "output_type": "stream",
     "text": [
      "[1, 2, 3, 4, 5, 6, 7, 8, 9]\n"
     ]
    }
   ],
   "source": [
    "print liste3"
   ]
  },
  {
   "cell_type": "code",
   "execution_count": 21,
   "metadata": {
    "collapsed": false
   },
   "outputs": [
    {
     "data": {
      "text/plain": [
       "9"
      ]
     },
     "execution_count": 21,
     "metadata": {},
     "output_type": "execute_result"
    }
   ],
   "source": [
    "liste3 [-1]"
   ]
  },
  {
   "cell_type": "code",
   "execution_count": 23,
   "metadata": {
    "collapsed": false
   },
   "outputs": [
    {
     "data": {
      "text/plain": [
       "45"
      ]
     },
     "execution_count": 23,
     "metadata": {},
     "output_type": "execute_result"
    }
   ],
   "source": [
    "sum(liste3)"
   ]
  },
  {
   "cell_type": "code",
   "execution_count": 40,
   "metadata": {
    "collapsed": true
   },
   "outputs": [],
   "source": [
    "liste5=number + 1"
   ]
  },
  {
   "cell_type": "code",
   "execution_count": 42,
   "metadata": {
    "collapsed": true
   },
   "outputs": [],
   "source": [
    "liste3=[1,2,3,4,5,6,7,8,9]"
   ]
  },
  {
   "cell_type": "code",
   "execution_count": 50,
   "metadata": {
    "collapsed": false
   },
   "outputs": [
    {
     "name": "stdout",
     "output_type": "stream",
     "text": [
      "2\n",
      "3\n",
      "4\n",
      "5\n",
      "6\n",
      "7\n",
      "8\n",
      "9\n",
      "10\n"
     ]
    }
   ],
   "source": [
    "for number in liste3:\n",
    "    print number + 1\n",
    "    "
   ]
  },
  {
   "cell_type": "code",
   "execution_count": 51,
   "metadata": {
    "collapsed": true
   },
   "outputs": [],
   "source": [
    "new_list = [x+1 for x in liste3]"
   ]
  },
  {
   "cell_type": "code",
   "execution_count": 52,
   "metadata": {
    "collapsed": false
   },
   "outputs": [
    {
     "name": "stdout",
     "output_type": "stream",
     "text": [
      "[2, 3, 4, 5, 6, 7, 8, 9, 10]\n"
     ]
    }
   ],
   "source": [
    "print new_list"
   ]
  },
  {
   "cell_type": "code",
   "execution_count": 54,
   "metadata": {
    "collapsed": false
   },
   "outputs": [
    {
     "data": {
      "text/plain": [
       "54"
      ]
     },
     "execution_count": 54,
     "metadata": {},
     "output_type": "execute_result"
    }
   ],
   "source": [
    "sum([x+1 for x in liste3])"
   ]
  },
  {
   "cell_type": "markdown",
   "metadata": {},
   "source": [
    "#Question 2\n",
    "What is the output of the following code? Which lines give you errors?\n",
    "\n",
    "borough_name = 'Manhattan'\n",
    "z = [ 'Manhattan', 'Queens' ]\n",
    "x = { 'borough_name': 'Manhattan', 'population': 500 }\n",
    "y = {\n",
    "'Manhattan': 500,\n",
    "'Queens': 200\n",
    "}\n",
    "\n",
    "print x['borough_name']\n",
    "print x[borough_name]\n",
    "print x[0]\n",
    "print y['borough_name']\n",
    "print y[borough_name]\n",
    "print y[0]\n",
    "print z['borough_name']\n",
    "print z[borough_name]\n",
    "print z[0]\n"
   ]
  },
  {
   "cell_type": "code",
   "execution_count": 55,
   "metadata": {
    "collapsed": true
   },
   "outputs": [],
   "source": [
    "z = [ 'Manhattan', 'Queens' ]"
   ]
  },
  {
   "cell_type": "code",
   "execution_count": 56,
   "metadata": {
    "collapsed": true
   },
   "outputs": [],
   "source": [
    "x = { 'borough_name': 'Manhattan', 'population': 500 }"
   ]
  },
  {
   "cell_type": "code",
   "execution_count": 57,
   "metadata": {
    "collapsed": true
   },
   "outputs": [],
   "source": [
    "y = { 'Manhattan': 500, 'Queens': 200 }"
   ]
  },
  {
   "cell_type": "code",
   "execution_count": 58,
   "metadata": {
    "collapsed": false
   },
   "outputs": [
    {
     "name": "stdout",
     "output_type": "stream",
     "text": [
      "Manhattan\n"
     ]
    }
   ],
   "source": [
    "print x['borough_name']"
   ]
  },
  {
   "cell_type": "markdown",
   "metadata": {},
   "source": [
    "print x[borough_name] gives error"
   ]
  },
  {
   "cell_type": "markdown",
   "metadata": {},
   "source": [
    "print x[0] gives error"
   ]
  },
  {
   "cell_type": "markdown",
   "metadata": {},
   "source": [
    "print y['borough_name'] error, not in y"
   ]
  },
  {
   "cell_type": "markdown",
   "metadata": {},
   "source": [
    "y[borough_name] error"
   ]
  },
  {
   "cell_type": "markdown",
   "metadata": {},
   "source": [
    "print y[0] errror"
   ]
  },
  {
   "cell_type": "markdown",
   "metadata": {},
   "source": [
    "print z['borough_name'] error"
   ]
  },
  {
   "cell_type": "markdown",
   "metadata": {},
   "source": [
    "print z[borough_name] error"
   ]
  },
  {
   "cell_type": "code",
   "execution_count": 67,
   "metadata": {
    "collapsed": false
   },
   "outputs": [
    {
     "name": "stdout",
     "output_type": "stream",
     "text": [
      "Manhattan\n"
     ]
    }
   ],
   "source": [
    "print z[0]"
   ]
  },
  {
   "cell_type": "markdown",
   "metadata": {},
   "source": [
    "#Question 1\n",
    "What's the output of the following lines?\n",
    "\n",
    "name = \"Max\"\n",
    "print \"hello\", \"name\"\n",
    "print \"hello\", name"
   ]
  },
  {
   "cell_type": "code",
   "execution_count": 68,
   "metadata": {
    "collapsed": true
   },
   "outputs": [],
   "source": [
    "name = \"Max\""
   ]
  },
  {
   "cell_type": "code",
   "execution_count": 70,
   "metadata": {
    "collapsed": false
   },
   "outputs": [
    {
     "name": "stdout",
     "output_type": "stream",
     "text": [
      "hello name\n"
     ]
    }
   ],
   "source": [
    "print \"hello\", \"name\""
   ]
  },
  {
   "cell_type": "code",
   "execution_count": 71,
   "metadata": {
    "collapsed": false
   },
   "outputs": [
    {
     "name": "stdout",
     "output_type": "stream",
     "text": [
      "hello Max\n"
     ]
    }
   ],
   "source": [
    "print \"hello\", name"
   ]
  },
  {
   "cell_type": "markdown",
   "metadata": {
    "collapsed": true
   },
   "source": [
    "#Donow 3\n",
    "\n",
    "#Question 1\n",
    "Print the 3rd element of a list called dogs."
   ]
  },
  {
   "cell_type": "code",
   "execution_count": 2,
   "metadata": {
    "collapsed": false
   },
   "outputs": [],
   "source": [
    "import csv\n",
    "file = open(\"dogs.csv\")\n",
    "dogs = list(csv.DictReader(file))"
   ]
  },
  {
   "cell_type": "code",
   "execution_count": 3,
   "metadata": {
    "collapsed": false
   },
   "outputs": [
    {
     "data": {
      "text/plain": [
       "{'birth': 'Jan-02',\n",
       " 'borough': 'Manhattan',\n",
       " 'breed': 'Afghan Hound',\n",
       " 'dog_name': 'Chloe',\n",
       " 'dominant_color': 'WHITE',\n",
       " 'gender': 'F',\n",
       " 'guard_or_trained': 'No',\n",
       " 'secondary_color': 'BLOND',\n",
       " 'spayed_or_neutered': 'Yes',\n",
       " 'third_color': 'n/a',\n",
       " 'zip_code': '10024'}"
      ]
     },
     "execution_count": 3,
     "metadata": {},
     "output_type": "execute_result"
    }
   ],
   "source": [
    "dogs [3]"
   ]
  },
  {
   "cell_type": "markdown",
   "metadata": {},
   "source": [
    "#Question 2\n",
    "What is the output of the following code?\n",
    "\n",
    "numbers = [ 1, 2, 3, 4]\n",
    "colors = [ \"green\", \"blue\" ]\n",
    "for color in colors:\n",
    "\tfor number in numbers:\n",
    "\t\tprint number, color\n"
   ]
  },
  {
   "cell_type": "code",
   "execution_count": 4,
   "metadata": {
    "collapsed": false
   },
   "outputs": [
    {
     "name": "stdout",
     "output_type": "stream",
     "text": [
      "1 green\n",
      "2 green\n",
      "3 green\n",
      "4 green\n",
      "1 blue\n",
      "2 blue\n",
      "3 blue\n",
      "4 blue\n"
     ]
    }
   ],
   "source": [
    "numbers = [ 1, 2, 3, 4]\n",
    "colors = [ \"green\", \"blue\" ]\n",
    "for color in colors:\n",
    "\tfor number in numbers:\n",
    "\t\tprint number, color\n"
   ]
  },
  {
   "cell_type": "markdown",
   "metadata": {},
   "source": [
    "#Question 3\n",
    "What command would you use to get the first 100 lines of data.csv, and save it into a new file named sample.csv?"
   ]
  },
  {
   "cell_type": "markdown",
   "metadata": {},
   "source": [
    "head -n 100 dogs.csv > sample.csv"
   ]
  },
  {
   "cell_type": "markdown",
   "metadata": {},
   "source": [
    "This is a view of the file lists.csv, used for the questions below\n",
    "make\tyear\tcolor\n",
    "Chevrolet\t2011\tblack\n",
    "Honda\t2010\tred\n",
    "Honda\t2013\tblack\n",
    "Toyota\t2001\tgold\n"
   ]
  },
  {
   "cell_type": "markdown",
   "metadata": {},
   "source": [
    "I crate a csv file called output1"
   ]
  },
  {
   "cell_type": "code",
   "execution_count": 36,
   "metadata": {
    "collapsed": false
   },
   "outputs": [
    {
     "name": "stdout",
     "output_type": "stream",
     "text": [
      "\n"
     ]
    }
   ],
   "source": [
    "import csv\n",
    "def csv_writer(data, path):\n",
    "\n",
    "#Write data to a CSV file path\n",
    "\twith open(path, \"wb\") as csv_file:\n",
    "\t\twriter = csv.writer(csv_file, delimiter=',')\n",
    "\t\tfor line in data:\n",
    "\t\t\twriter.writerow(line)\n",
    "\n",
    "\n",
    "if __name__ == \"__main__\":\n",
    "\n",
    "\tdata = [\"make,year,color\".split(\",\"),\n",
    "\t\t\"Chevrolet,2011,black\".split(\",\"),\n",
    "\t\t\"Honda,2010,red\".split(\",\"),\n",
    "\t\t\"Honda,2013,black\".split(\",\"),\n",
    "\t\t\"Toyota,2001,gold\".split(\",\")\n",
    "\t\t]\n",
    "path = \"output3.csv\"\n",
    "csv_writer(data, path)"
   ]
  },
  {
   "cell_type": "code",
   "execution_count": 3,
   "metadata": {
    "collapsed": false
   },
   "outputs": [],
   "source": [
    "import csv\n",
    "file = open(\"output3.csv\")\n",
    "cars = list(csv.DictReader(file))"
   ]
  },
  {
   "cell_type": "code",
   "execution_count": 4,
   "metadata": {
    "collapsed": false
   },
   "outputs": [
    {
     "name": "stdout",
     "output_type": "stream",
     "text": [
      "[{'color': 'black', 'make': 'Chevrolet', 'year': '2011'}, {'color': 'red', 'make': 'Honda', 'year': '2010'}, {'color': 'black', 'make': 'Honda', 'year': '2013'}, {'color': 'gold', 'make': 'Toyota', 'year': '2001'}]\n"
     ]
    }
   ],
   "source": [
    "print cars\n"
   ]
  },
  {
   "cell_type": "markdown",
   "metadata": {},
   "source": [
    "#Question 4\n",
    "What is missing from the lines below? \n",
    "(It isn't 100% necessary, but we use it for convenience)\\n\n",
    "\n",
    "file = open(\"lists.csv\")\\n\n",
    "\n",
    "cars = csv.DictReader(file)\n",
    "\n"
   ]
  },
  {
   "cell_type": "markdown",
   "metadata": {},
   "source": [
    "cars = list(csv.DictReader(file))"
   ]
  },
  {
   "cell_type": "markdown",
   "metadata": {},
   "source": [
    "#Question 5"
   ]
  },
  {
   "cell_type": "markdown",
   "metadata": {},
   "source": [
    "Write a for loop to add up all of the years. "
   ]
  },
  {
   "cell_type": "code",
   "execution_count": 5,
   "metadata": {
    "collapsed": false
   },
   "outputs": [
    {
     "name": "stdout",
     "output_type": "stream",
     "text": [
      "4\n"
     ]
    }
   ],
   "source": [
    "count_car = []\n",
    "for car in cars:\n",
    "\tcount_car.append(car['year'])\n",
    "print len(count_car)\n",
    "    \n",
    "    "
   ]
  },
  {
   "cell_type": "code",
   "execution_count": 6,
   "metadata": {
    "collapsed": false
   },
   "outputs": [
    {
     "name": "stdout",
     "output_type": "stream",
     "text": [
      "['2011', '2010', '2013', '2001']\n"
     ]
    }
   ],
   "source": [
    "print count_car"
   ]
  },
  {
   "cell_type": "markdown",
   "metadata": {},
   "source": [
    "Save it to a variable called total."
   ]
  },
  {
   "cell_type": "code",
   "execution_count": 7,
   "metadata": {
    "collapsed": false
   },
   "outputs": [
    {
     "name": "stdout",
     "output_type": "stream",
     "text": [
      "4\n"
     ]
    }
   ],
   "source": [
    "total = 0\n",
    "for car in cars:\n",
    "\ttotal = total + 1\n",
    "print total"
   ]
  },
  {
   "cell_type": "markdown",
   "metadata": {},
   "source": [
    "now I have the problem that the years are string and not int."
   ]
  },
  {
   "cell_type": "code",
   "execution_count": 8,
   "metadata": {
    "collapsed": false
   },
   "outputs": [
    {
     "name": "stdout",
     "output_type": "stream",
     "text": [
      "['2011', '2010', '2013', '2001']\n"
     ]
    }
   ],
   "source": [
    "print count_car\n",
    "\n"
   ]
  },
  {
   "cell_type": "markdown",
   "metadata": {},
   "source": [
    "so I need to crate a new list with int"
   ]
  },
  {
   "cell_type": "code",
   "execution_count": 18,
   "metadata": {
    "collapsed": true
   },
   "outputs": [],
   "source": [
    "new_car = [int(number) for x in count_car]"
   ]
  },
  {
   "cell_type": "code",
   "execution_count": 19,
   "metadata": {
    "collapsed": false
   },
   "outputs": [
    {
     "name": "stdout",
     "output_type": "stream",
     "text": [
      "[2001, 2001, 2001, 2001]\n"
     ]
    }
   ],
   "source": [
    "print new_car"
   ]
  },
  {
   "cell_type": "markdown",
   "metadata": {},
   "source": [
    "and than I can sum the elements sum(new_car) if I want"
   ]
  },
  {
   "cell_type": "code",
   "execution_count": 20,
   "metadata": {
    "collapsed": false
   },
   "outputs": [
    {
     "name": "stdout",
     "output_type": "stream",
     "text": [
      "8004\n"
     ]
    }
   ],
   "source": [
    "print sum(new_car)"
   ]
  },
  {
   "cell_type": "markdown",
   "metadata": {},
   "source": [
    "#Question 6\n",
    "I'd like a new list called favorites that includes all cars that are black or produced after 2010. Write a for loop to create this list.\n",
    "\n",
    "Tip: You can join things in if statements using and and or, like n > 3 or name == \"Peter\"\n"
   ]
  },
  {
   "cell_type": "code",
   "execution_count": 39,
   "metadata": {
    "collapsed": true
   },
   "outputs": [],
   "source": [
    "favorite = []\n",
    "for car in cars:\n",
    "\tif car['color'] == 'black'or int(car['year']) > 2010:\n",
    "\t\tfavorite.append(car) \n",
    "   "
   ]
  },
  {
   "cell_type": "code",
   "execution_count": 40,
   "metadata": {
    "collapsed": false
   },
   "outputs": [
    {
     "name": "stdout",
     "output_type": "stream",
     "text": [
      "[{'color': 'black', 'make': 'Chevrolet', 'year': '2011'}, {'color': 'black', 'make': 'Honda', 'year': '2013'}]\n"
     ]
    }
   ],
   "source": [
    "print favorite"
   ]
  },
  {
   "cell_type": "markdown",
   "metadata": {},
   "source": [
    "The problem is that the or makes no difference. So I do it with >2009. now I should have the red Honda in the list too"
   ]
  },
  {
   "cell_type": "code",
   "execution_count": 43,
   "metadata": {
    "collapsed": true
   },
   "outputs": [],
   "source": [
    "favorite = []\n",
    "for car in cars:\n",
    "\tif car['color'] == 'black'or int(car['year']) > 2009:\n",
    "\t\tfavorite.append(car)"
   ]
  },
  {
   "cell_type": "code",
   "execution_count": 44,
   "metadata": {
    "collapsed": false
   },
   "outputs": [
    {
     "name": "stdout",
     "output_type": "stream",
     "text": [
      "[{'color': 'black', 'make': 'Chevrolet', 'year': '2011'}, {'color': 'red', 'make': 'Honda', 'year': '2010'}, {'color': 'black', 'make': 'Honda', 'year': '2013'}]\n"
     ]
    }
   ],
   "source": [
    "print favorite"
   ]
  },
  {
   "cell_type": "markdown",
   "metadata": {},
   "source": [
    "a problem was the fact that the years in cars are string. The solution is:"
   ]
  },
  {
   "cell_type": "code",
   "execution_count": 31,
   "metadata": {
    "collapsed": true
   },
   "outputs": [],
   "source": [
    "favorite1 = []\n",
    "for car in cars:\n",
    "\tif int(car['year']) > 2011:\n",
    "\t\tfavorite.append(car)"
   ]
  },
  {
   "cell_type": "code",
   "execution_count": 32,
   "metadata": {
    "collapsed": false
   },
   "outputs": [
    {
     "name": "stdout",
     "output_type": "stream",
     "text": [
      "[{'color': 'black', 'make': 'Chevrolet', 'year': '2011'}, {'color': 'black', 'make': 'Honda', 'year': '2013'}, {'color': 'black', 'make': 'Honda', 'year': '2013'}]\n"
     ]
    }
   ],
   "source": [
    "print favorite"
   ]
  },
  {
   "cell_type": "code",
   "execution_count": null,
   "metadata": {
    "collapsed": true
   },
   "outputs": [],
   "source": []
  }
 ],
 "metadata": {
  "kernelspec": {
   "display_name": "Python 2",
   "language": "python",
   "name": "python2"
  },
  "language_info": {
   "codemirror_mode": {
    "name": "ipython",
    "version": 2
   },
   "file_extension": ".py",
   "mimetype": "text/x-python",
   "name": "python",
   "nbconvert_exporter": "python",
   "pygments_lexer": "ipython2",
   "version": "2.7.9"
  }
 },
 "nbformat": 4,
 "nbformat_minor": 0
}

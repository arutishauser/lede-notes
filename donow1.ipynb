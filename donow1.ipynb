{
 "cells": [
  {
   "cell_type": "markdown",
   "metadata": {},
   "source": [
    "#Do Now 1\n",
    "Monday, June 1, 2015\n",
    "\n",
    "**Reviewing: variables, casting, if statements\n",
    "\n",
    "#Question 1\n",
    "1) Given the following code, what is the output?\n",
    "\n",
    "i = 5\n",
    "print 5 * 5\n",
    "print i\n",
    "print \"cat\" + \"dog\"\n",
    "print \"cat\", \"dog\"\n"
   ]
  },
  {
   "cell_type": "code",
   "execution_count": 2,
   "metadata": {
    "collapsed": false
   },
   "outputs": [
    {
     "name": "stdout",
     "output_type": "stream",
     "text": [
      "25\n",
      "5\n",
      "catdog\n",
      "cat dog\n"
     ]
    }
   ],
   "source": [
    "i = 5\n",
    "print 5 * 5\n",
    "print i\n",
    "print \"cat\" + \"dog\"\n",
    "print \"cat\", \"dog\""
   ]
  },
  {
   "cell_type": "markdown",
   "metadata": {},
   "source": [
    "interesting is htat if you add two strings (\"cat\" + \"dog\") it maches them together (catdog), if you say print cat\", \"dog\", you get cat\", \"dog\""
   ]
  },
  {
   "cell_type": "markdown",
   "metadata": {},
   "source": [
    "#Question 2 a\n",
    "The code below doesn't work. Why not?\n",
    "\n",
    "print 5 + \"5\"\n",
    "because it mixes int and strings.\n",
    "\n",
    "\n",
    "#Question 2 b\n",
    "There are several ways to make it work! Give two possible changes and what the output would be in each case.\n",
    "what works is:"
   ]
  },
  {
   "cell_type": "code",
   "execution_count": 3,
   "metadata": {
    "collapsed": false
   },
   "outputs": [
    {
     "name": "stdout",
     "output_type": "stream",
     "text": [
      "55\n",
      "10\n"
     ]
    }
   ],
   "source": [
    "print \"5\" + \"5\"\n",
    "print 5 + 5"
   ]
  },
  {
   "cell_type": "markdown",
   "metadata": {},
   "source": [
    "#Question 3\n",
    "What is wrong with the following if statement?\n",
    "\n",
    "if n = 2:\n",
    "  print \"Two\"\n",
    "you have to define n, than you have to put n==2\n"
   ]
  },
  {
   "cell_type": "code",
   "execution_count": 8,
   "metadata": {
    "collapsed": false
   },
   "outputs": [
    {
     "name": "stdout",
     "output_type": "stream",
     "text": [
      "Two\n"
     ]
    }
   ],
   "source": [
    "n=2\n",
    "if n == 2:\n",
    "  print \"Two\""
   ]
  },
  {
   "cell_type": "markdown",
   "metadata": {},
   "source": [
    "#Question 3\n",
    "Given the following code, what would the output be for n = 0, 10, -1, 3, and -5?\n",
    "**first be careful to write elif and not elsif**\n",
    "if you run it now,without define n, it gives you the result for n=2, because up in question 2, there is n=2\n",
    "print n\n",
    "if n > 0:\n",
    "  print \"A\"\n",
    "  if n >= 3:\n",
    "    print \"B\"\n",
    "    print \"C\"\n",
    "  elif n > 2:\n",
    "    print \"D\"\n",
    "  else:\n",
    "    print \"E\"\n",
    "elif 1 > n > -2:\n",
    "  print \"F\"\n",
    "else:\n",
    "  print \"G\"\n",
    "if n < 5:\n",
    "  print \"H\"\n",
    "\n",
    "the result must be\n",
    "n= 0, print F, H\n",
    "n= 10, print A, B, C\n",
    "n = -1, print F, H\n",
    "n = 3, print A, B, C, H\n",
    "n = -5, print g, H"
   ]
  },
  {
   "cell_type": "code",
   "execution_count": 14,
   "metadata": {
    "collapsed": false
   },
   "outputs": [
    {
     "name": "stdout",
     "output_type": "stream",
     "text": [
      "-5\n",
      "G\n",
      "H\n"
     ]
    }
   ],
   "source": [
    "n=-5\n",
    "print n\n",
    "if n > 0:\n",
    "  print \"A\"\n",
    "  if n >= 3:\n",
    "    print \"B\"\n",
    "    print \"C\"\n",
    "  elif n > 2:\n",
    "    print \"D\"\n",
    "  else:\n",
    "    print \"E\"\n",
    "elif 1 > n > -2:\n",
    "  print \"F\"\n",
    "else:\n",
    "  print \"G\"\n",
    "if n < 5:\n",
    "  print \"H\"\n"
   ]
  },
  {
   "cell_type": "code",
   "execution_count": null,
   "metadata": {
    "collapsed": true
   },
   "outputs": [],
   "source": []
  }
 ],
 "metadata": {
  "kernelspec": {
   "display_name": "Python 2",
   "language": "python",
   "name": "python2"
  },
  "language_info": {
   "codemirror_mode": {
    "name": "ipython",
    "version": 2
   },
   "file_extension": ".py",
   "mimetype": "text/x-python",
   "name": "python",
   "nbconvert_exporter": "python",
   "pygments_lexer": "ipython2",
   "version": "2.7.9"
  }
 },
 "nbformat": 4,
 "nbformat_minor": 0
}

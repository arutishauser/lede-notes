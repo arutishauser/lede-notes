{
 "cells": [
  {
   "cell_type": "markdown",
   "metadata": {},
   "source": [
    "#Notes"
   ]
  },
  {
   "cell_type": "markdown",
   "metadata": {},
   "source": [
    "##Section 1\n",
    "**Variables, castings and if statements"
   ]
  },
  {
   "cell_type": "markdown",
   "metadata": {},
   "source": [
    "##Variables"
   ]
  },
  {
   "cell_type": "markdown",
   "metadata": {},
   "source": [
    "From Do Now 1 I learned that it is not possible to mix string and integer in operations (print 5 + \"5\" = error), also if you do it with Variables (n=\"two\", x =2, x+y= error). "
   ]
  },
  {
   "cell_type": "markdown",
   "metadata": {},
   "source": [
    "###Codes"
   ]
  },
  {
   "cell_type": "markdown",
   "metadata": {},
   "source": [
    "We learned about if, elif, else. if you are comparing x with y, you have to write if x==y, if not error. From **Do Now 2** I learned that after an if statement you need : and new line(tab).\n",
    "This is a good example:"
   ]
  },
  {
   "cell_type": "code",
   "execution_count": null,
   "metadata": {
    "collapsed": true
   },
   "outputs": [],
   "source": [
    "n=-5\n",
    "print n\n",
    "if n > 0:\n",
    "  print \"A\"\n",
    "  if n >= 3:\n",
    "    print \"B\"\n",
    "    print \"C\"\n",
    "  elif n > 2:\n",
    "    print \"D\"\n",
    "  else:\n",
    "    print \"E\"\n",
    "elif 1 > n > -2:\n",
    "  print \"F\"\n",
    "else:\n",
    "  print \"G\"\n",
    "if n < 5:\n",
    "  print \"H\""
   ]
  },
  {
   "cell_type": "markdown",
   "metadata": {},
   "source": [
    "##Section 2\n",
    "Reviewing: conditionals, dictionaries, lists"
   ]
  },
  {
   "cell_type": "markdown",
   "metadata": {},
   "source": [
    "##Lists"
   ]
  },
  {
   "cell_type": "markdown",
   "metadata": {},
   "source": [
    "in Do Now 2 I learned how I can get the total of the list below? How about a count of how many elements are in the list?\n",
    "\n",
    "numbers = [ 1, 2, 3, 4, 5, 6, 7]\n",
    "you do this with sum(numbers) and len(numbers) and the third element of this list"
   ]
  },
  {
   "cell_type": "code",
   "execution_count": 5,
   "metadata": {
    "collapsed": true
   },
   "outputs": [],
   "source": [
    "numbers = [ 1, 2, 3, 4, 5, 6, 7]"
   ]
  },
  {
   "cell_type": "code",
   "execution_count": 6,
   "metadata": {
    "collapsed": false
   },
   "outputs": [
    {
     "data": {
      "text/plain": [
       "28"
      ]
     },
     "execution_count": 6,
     "metadata": {},
     "output_type": "execute_result"
    }
   ],
   "source": [
    "sum(numbers)"
   ]
  },
  {
   "cell_type": "code",
   "execution_count": null,
   "metadata": {
    "collapsed": true
   },
   "outputs": [],
   "source": [
    "len(numbers)"
   ]
  },
  {
   "cell_type": "code",
   "execution_count": 7,
   "metadata": {
    "collapsed": false
   },
   "outputs": [
    {
     "data": {
      "text/plain": [
       "3"
      ]
     },
     "execution_count": 7,
     "metadata": {},
     "output_type": "execute_result"
    }
   ],
   "source": [
    "numbers [2]"
   ]
  },
  {
   "cell_type": "markdown",
   "metadata": {},
   "source": [
    "I learned also to sum only a part of a list with an if condition"
   ]
  },
  {
   "cell_type": "code",
   "execution_count": 16,
   "metadata": {
    "collapsed": true
   },
   "outputs": [],
   "source": [
    "values = [20, 30 ,10, 5, 99]"
   ]
  },
  {
   "cell_type": "code",
   "execution_count": 17,
   "metadata": {
    "collapsed": false
   },
   "outputs": [
    {
     "name": "stdout",
     "output_type": "stream",
     "text": [
      "149\n"
     ]
    }
   ],
   "source": [
    "favorite = []\n",
    "for value in values:\n",
    "    if value>10:\n",
    "        favorite.append(value)\n",
    "        sum(favorite)\n",
    "print sum(favorite)"
   ]
  },
  {
   "cell_type": "code",
   "execution_count": 18,
   "metadata": {
    "collapsed": false
   },
   "outputs": [
    {
     "name": "stdout",
     "output_type": "stream",
     "text": [
      "164\n"
     ]
    }
   ],
   "source": [
    "print sum(values)"
   ]
  },
  {
   "cell_type": "code",
   "execution_count": null,
   "metadata": {
    "collapsed": true
   },
   "outputs": [],
   "source": []
  },
  {
   "cell_type": "markdown",
   "metadata": {},
   "source": [
    "In Do now 3 I learned to play with nested loops"
   ]
  },
  {
   "cell_type": "code",
   "execution_count": 21,
   "metadata": {
    "collapsed": false
   },
   "outputs": [
    {
     "name": "stdout",
     "output_type": "stream",
     "text": [
      "1 green\n",
      "2 green\n",
      "3 green\n",
      "4 green\n",
      "1 blue\n",
      "2 blue\n",
      "3 blue\n",
      "4 blue\n"
     ]
    }
   ],
   "source": [
    "numbers = [ 1, 2, 3, 4]\n",
    "colors = [ \"green\", \"blue\" ]\n",
    "for color in colors:\n",
    "\tfor number in numbers:\n",
    "\t\tprint number, color"
   ]
  },
  {
   "cell_type": "markdown",
   "metadata": {},
   "source": [
    "In Do now 4 I learned how to add 1 to every element of a list: "
   ]
  },
  {
   "cell_type": "code",
   "execution_count": 43,
   "metadata": {
    "collapsed": true
   },
   "outputs": [],
   "source": [
    "liste3=[1,2,3,4,5,6,7,8,9]"
   ]
  },
  {
   "cell_type": "code",
   "execution_count": 44,
   "metadata": {
    "collapsed": false
   },
   "outputs": [],
   "source": [
    "new_list = [x+1 for x in liste3]"
   ]
  },
  {
   "cell_type": "code",
   "execution_count": 45,
   "metadata": {
    "collapsed": false
   },
   "outputs": [
    {
     "name": "stdout",
     "output_type": "stream",
     "text": [
      "[2, 3, 4, 5, 6, 7, 8, 9, 10]\n"
     ]
    }
   ],
   "source": [
    "print new_list"
   ]
  },
  {
   "cell_type": "markdown",
   "metadata": {},
   "source": [
    "##Section 3"
   ]
  },
  {
   "cell_type": "markdown",
   "metadata": {},
   "source": [
    "##Dictionaries"
   ]
  },
  {
   "cell_type": "markdown",
   "metadata": {},
   "source": [
    "###In Do Now 2 I learned how to add to a dictionary:"
   ]
  },
  {
   "cell_type": "code",
   "execution_count": 1,
   "metadata": {
    "collapsed": true
   },
   "outputs": [],
   "source": [
    "weather = { 'high': 66, 'appearance': 'cloudy' }"
   ]
  },
  {
   "cell_type": "code",
   "execution_count": 2,
   "metadata": {
    "collapsed": false
   },
   "outputs": [
    {
     "name": "stdout",
     "output_type": "stream",
     "text": [
      "{'high': 66, 'appearance': 'cloudy'}\n"
     ]
    }
   ],
   "source": [
    "print weather"
   ]
  },
  {
   "cell_type": "code",
   "execution_count": 3,
   "metadata": {
    "collapsed": true
   },
   "outputs": [],
   "source": [
    "weather ['low']=54"
   ]
  },
  {
   "cell_type": "code",
   "execution_count": 4,
   "metadata": {
    "collapsed": false
   },
   "outputs": [
    {
     "name": "stdout",
     "output_type": "stream",
     "text": [
      "{'high': 66, 'appearance': 'cloudy', 'low': 54}\n"
     ]
    }
   ],
   "source": [
    "print weather"
   ]
  },
  {
   "cell_type": "markdown",
   "metadata": {},
   "source": [
    "##Section 4"
   ]
  },
  {
   "cell_type": "markdown",
   "metadata": {},
   "source": [
    "##Lists out of Dicionaries"
   ]
  },
  {
   "cell_type": "markdown",
   "metadata": {},
   "source": [
    "I also learned how to print al list of the the keys, sum them, print a list with the items and how to play with iteritems"
   ]
  },
  {
   "cell_type": "code",
   "execution_count": 9,
   "metadata": {
    "collapsed": true
   },
   "outputs": [],
   "source": [
    "data = {'11238':23,'10011':47,'10012':10}"
   ]
  },
  {
   "cell_type": "code",
   "execution_count": 10,
   "metadata": {
    "collapsed": false
   },
   "outputs": [
    {
     "data": {
      "text/plain": [
       "[23, 10, 47]"
      ]
     },
     "execution_count": 10,
     "metadata": {},
     "output_type": "execute_result"
    }
   ],
   "source": [
    "data.values()"
   ]
  },
  {
   "cell_type": "code",
   "execution_count": 11,
   "metadata": {
    "collapsed": false
   },
   "outputs": [
    {
     "data": {
      "text/plain": [
       "80"
      ]
     },
     "execution_count": 11,
     "metadata": {},
     "output_type": "execute_result"
    }
   ],
   "source": [
    "sum(data.values())"
   ]
  },
  {
   "cell_type": "code",
   "execution_count": 12,
   "metadata": {
    "collapsed": false
   },
   "outputs": [
    {
     "name": "stdout",
     "output_type": "stream",
     "text": [
      "23 11238\n",
      "10 10012\n",
      "47 10011\n"
     ]
    }
   ],
   "source": [
    "for key, value in data.iteritems() :\n",
    "    print value, key"
   ]
  },
  {
   "cell_type": "code",
   "execution_count": 13,
   "metadata": {
    "collapsed": false
   },
   "outputs": [
    {
     "data": {
      "text/plain": [
       "[('11238', 23), ('10012', 10), ('10011', 47)]"
      ]
     },
     "execution_count": 13,
     "metadata": {},
     "output_type": "execute_result"
    }
   ],
   "source": [
    "data.items()"
   ]
  },
  {
   "cell_type": "code",
   "execution_count": 14,
   "metadata": {
    "collapsed": false
   },
   "outputs": [
    {
     "data": {
      "text/plain": [
       "['11238', '10012', '10011']"
      ]
     },
     "execution_count": 14,
     "metadata": {},
     "output_type": "execute_result"
    }
   ],
   "source": [
    "data.keys()"
   ]
  },
  {
   "cell_type": "markdown",
   "metadata": {},
   "source": [
    "I also learned to write a loop that prints the keys (zipcodes) in separate lines"
   ]
  },
  {
   "cell_type": "code",
   "execution_count": 15,
   "metadata": {
    "collapsed": false
   },
   "outputs": [
    {
     "name": "stdout",
     "output_type": "stream",
     "text": [
      "11238\n",
      "10012\n",
      "10011\n"
     ]
    }
   ],
   "source": [
    "for key, value in data.items() :\n",
    "    print key"
   ]
  },
  {
   "cell_type": "markdown",
   "metadata": {},
   "source": [
    "Calculates with yalues of a dictionary"
   ]
  },
  {
   "cell_type": "markdown",
   "metadata": {},
   "source": [
    "in do now 4 I learned to calculate with values of a dictionary: Given the following, write code to calculate how many murders we have in total.\n",
    "\n",
    "murders = { 'Albany': 23, 'Kings County': 10, 'Rochester': 7, 'Yonkers: 9 }\n",
    "first I want to have the number of the murders in 'Kings' and the sum of the murders"
   ]
  },
  {
   "cell_type": "code",
   "execution_count": 46,
   "metadata": {
    "collapsed": true
   },
   "outputs": [],
   "source": [
    "murders = {'Albany': 23, 'Kings': 10, 'Rochester': 7, 'Yonkers':9}"
   ]
  },
  {
   "cell_type": "code",
   "execution_count": 50,
   "metadata": {
    "collapsed": false
   },
   "outputs": [
    {
     "data": {
      "text/plain": [
       "10"
      ]
     },
     "execution_count": 50,
     "metadata": {},
     "output_type": "execute_result"
    }
   ],
   "source": [
    "murders['Kings']"
   ]
  },
  {
   "cell_type": "code",
   "execution_count": 48,
   "metadata": {
    "collapsed": false
   },
   "outputs": [
    {
     "name": "stdout",
     "output_type": "stream",
     "text": [
      "49\n"
     ]
    }
   ],
   "source": [
    "total = 0\n",
    "for county in murders.keys():\n",
    "    total = total + murders[county]\n",
    "print total"
   ]
  },
  {
   "cell_type": "code",
   "execution_count": 49,
   "metadata": {
    "collapsed": false
   },
   "outputs": [
    {
     "name": "stdout",
     "output_type": "stream",
     "text": [
      "20.41 parcent of the murders happend in Kings Couny\n"
     ]
    }
   ],
   "source": [
    "print \"%.2f\" %(float(murders['Kings'])/total*100), \"parcent of the murders happend in Kings Couny\""
   ]
  },
  {
   "cell_type": "markdown",
   "metadata": {},
   "source": [
    "##csv files"
   ]
  },
  {
   "cell_type": "markdown",
   "metadata": {},
   "source": [
    "In Dow Now 3 learned to import a csv, change it to a list and print a dedicatet element, Nummer 3"
   ]
  },
  {
   "cell_type": "code",
   "execution_count": 19,
   "metadata": {
    "collapsed": true
   },
   "outputs": [],
   "source": [
    "import csv\n",
    "file = open(\"dogs.csv\")\n",
    "dogs = list(csv.DictReader(file))"
   ]
  },
  {
   "cell_type": "code",
   "execution_count": 20,
   "metadata": {
    "collapsed": false
   },
   "outputs": [
    {
     "data": {
      "text/plain": [
       "{'birth': 'Nov-00',\n",
       " 'borough': 'Manhattan',\n",
       " 'breed': 'Afghan Hound',\n",
       " 'dog_name': 'Abby',\n",
       " 'dominant_color': 'BLACK',\n",
       " 'gender': 'F',\n",
       " 'guard_or_trained': 'No',\n",
       " 'secondary_color': 'TAN',\n",
       " 'spayed_or_neutered': 'Yes',\n",
       " 'third_color': 'n/a',\n",
       " 'zip_code': '10034'}"
      ]
     },
     "execution_count": 20,
     "metadata": {},
     "output_type": "execute_result"
    }
   ],
   "source": [
    "dogs [2]"
   ]
  },
  {
   "cell_type": "markdown",
   "metadata": {},
   "source": [
    "I also learned to get the first 1000 lines in a file called sample1000.csv. head -n 1000 dogs.csv > sample1000.csv \n",
    "I do this in the Terminal"
   ]
  },
  {
   "cell_type": "code",
   "execution_count": 23,
   "metadata": {
    "collapsed": false
   },
   "outputs": [],
   "source": [
    "import csv\n",
    "file = open(\"sample1000.csv\")\n",
    "dogs = list(csv.DictReader(file))"
   ]
  },
  {
   "cell_type": "code",
   "execution_count": 33,
   "metadata": {
    "collapsed": false
   },
   "outputs": [
    {
     "data": {
      "text/plain": [
       "{'birth': 'Sep-10',\n",
       " 'borough': 'Queens',\n",
       " 'breed': 'American Pit Bull Mix / Pit Bull Mix',\n",
       " 'dog_name': 'Cornelius',\n",
       " 'dominant_color': 'BLACK',\n",
       " 'gender': 'M',\n",
       " 'guard_or_trained': 'No',\n",
       " 'secondary_color': 'WHITE',\n",
       " 'spayed_or_neutered': 'Yes',\n",
       " 'third_color': 'n/a',\n",
       " 'zip_code': '11374'}"
      ]
     },
     "execution_count": 33,
     "metadata": {},
     "output_type": "execute_result"
    }
   ],
   "source": [
    "dogs [998]"
   ]
  },
  {
   "cell_type": "markdown",
   "metadata": {},
   "source": [
    "I also tied to make my fist csv with own data. it worked, but has problems with strings and integer. I couldn't import an excell file"
   ]
  },
  {
   "cell_type": "code",
   "execution_count": 34,
   "metadata": {
    "collapsed": true
   },
   "outputs": [],
   "source": [
    "import csv\n",
    "def csv_writer(data, path):\n",
    "\n",
    "#Write data to a CSV file path\n",
    "\twith open(path, \"wb\") as csv_file:\n",
    "\t\twriter = csv.writer(csv_file, delimiter=',')\n",
    "\t\tfor line in data:\n",
    "\t\t\twriter.writerow(line)\n",
    "\n",
    "\n",
    "if __name__ == \"__main__\":\n",
    "\n",
    "\tdata = [\"make,year,color\".split(\",\"),\n",
    "\t\t\"Chevrolet,2011,black\".split(\",\"),\n",
    "\t\t\"Honda,2010,red\".split(\",\"),\n",
    "\t\t\"Honda,2013,black\".split(\",\"),\n",
    "\t\t\"Toyota,2001,gold\".split(\",\")\n",
    "\t\t]\n",
    "path = \"output4.csv\"\n",
    "csv_writer(data, path)"
   ]
  },
  {
   "cell_type": "code",
   "execution_count": 35,
   "metadata": {
    "collapsed": true
   },
   "outputs": [],
   "source": [
    "import csv\n",
    "file = open(\"output4.csv\")\n",
    "cars = list(csv.DictReader(file))"
   ]
  },
  {
   "cell_type": "code",
   "execution_count": 36,
   "metadata": {
    "collapsed": false
   },
   "outputs": [
    {
     "name": "stdout",
     "output_type": "stream",
     "text": [
      "4\n"
     ]
    }
   ],
   "source": [
    "count_car = []\n",
    "for car in cars:\n",
    "\tcount_car.append(car['year'])\n",
    "print len(count_car)"
   ]
  },
  {
   "cell_type": "code",
   "execution_count": 37,
   "metadata": {
    "collapsed": false
   },
   "outputs": [
    {
     "name": "stdout",
     "output_type": "stream",
     "text": [
      "['2011', '2010', '2013', '2001']\n"
     ]
    }
   ],
   "source": [
    "print count_car"
   ]
  },
  {
   "cell_type": "markdown",
   "metadata": {},
   "source": [
    "this works, but to calculate I need to crate a new list with int"
   ]
  },
  {
   "cell_type": "code",
   "execution_count": 38,
   "metadata": {
    "collapsed": true
   },
   "outputs": [],
   "source": [
    "new_car = [int(number) for x in count_car]"
   ]
  },
  {
   "cell_type": "code",
   "execution_count": 39,
   "metadata": {
    "collapsed": false
   },
   "outputs": [
    {
     "name": "stdout",
     "output_type": "stream",
     "text": [
      "16\n"
     ]
    }
   ],
   "source": [
    "print sum(new_car)"
   ]
  },
  {
   "cell_type": "markdown",
   "metadata": {},
   "source": [
    "I learned to create a new list called favorites that includes all cars that are black or produced after 2009. Write a for loop to create this list."
   ]
  },
  {
   "cell_type": "code",
   "execution_count": 41,
   "metadata": {
    "collapsed": false
   },
   "outputs": [
    {
     "name": "stdout",
     "output_type": "stream",
     "text": [
      "[{'color': 'black', 'make': 'Chevrolet', 'year': '2011'}, {'color': 'red', 'make': 'Honda', 'year': '2010'}, {'color': 'black', 'make': 'Honda', 'year': '2013'}]\n"
     ]
    }
   ],
   "source": [
    "favorite = []\n",
    "for car in cars:\n",
    "\tif car['color'] == 'black'or int(car['year']) > 2009:\n",
    "\t\tfavorite.append(car)\n",
    "print favorite"
   ]
  },
  {
   "cell_type": "code",
   "execution_count": null,
   "metadata": {
    "collapsed": true
   },
   "outputs": [],
   "source": []
  },
  {
   "cell_type": "markdown",
   "metadata": {},
   "source": [
    "##Section 5"
   ]
  },
  {
   "cell_type": "markdown",
   "metadata": {},
   "source": [
    "##ipython"
   ]
  },
  {
   "cell_type": "markdown",
   "metadata": {},
   "source": [
    "to check which pyton I run I enter in the commandline of the terminal: \n",
    "which python\n",
    "to run it I enter\n",
    "ipython\n",
    "\n",
    "to run the notebooks I enter:\n",
    "ipython notebook"
   ]
  },
  {
   "cell_type": "code",
   "execution_count": null,
   "metadata": {
    "collapsed": true
   },
   "outputs": [],
   "source": []
  }
 ],
 "metadata": {
  "kernelspec": {
   "display_name": "Python 2",
   "language": "python",
   "name": "python2"
  },
  "language_info": {
   "codemirror_mode": {
    "name": "ipython",
    "version": 2
   },
   "file_extension": ".py",
   "mimetype": "text/x-python",
   "name": "python",
   "nbconvert_exporter": "python",
   "pygments_lexer": "ipython2",
   "version": "2.7.9"
  }
 },
 "nbformat": 4,
 "nbformat_minor": 0
}

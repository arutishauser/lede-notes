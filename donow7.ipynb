{
 "cells": [
  {
   "cell_type": "markdown",
   "metadata": {},
   "source": [
    "Do Now\n",
    "Wednesday, June 18, 2015\n",
    "\n",
    "Reviewing: Google Refine, git, counting things\n",
    "\n",
    "1a) What does Refine call searching for text in a column?\n"
   ]
  },
  {
   "cell_type": "markdown",
   "metadata": {},
   "source": [
    "filter, text filter"
   ]
  },
  {
   "cell_type": "markdown",
   "metadata": {},
   "source": [
    "1b) What does Refine call examining all the values that appear in a column?"
   ]
  },
  {
   "cell_type": "markdown",
   "metadata": {},
   "source": [
    "facet, text facets"
   ]
  },
  {
   "cell_type": "markdown",
   "metadata": {},
   "source": [
    "2) When you add a new file into the folder you're tracking with git, it doesn't get automatically placed into the repository. What's the command to make that happen?\n",
    "\n",
    "\n"
   ]
  },
  {
   "cell_type": "markdown",
   "metadata": {},
   "source": [
    "git add filename.ipynb"
   ]
  },
  {
   "cell_type": "markdown",
   "metadata": {},
   "source": [
    "3) There are two more steps to go through with the file. One saves your changes to the repo, one sends them up to GitHub. What are they?\n",
    "\n"
   ]
  },
  {
   "cell_type": "markdown",
   "metadata": {},
   "source": [
    "git commit m\n",
    "git push"
   ]
  },
  {
   "cell_type": "markdown",
   "metadata": {},
   "source": [
    "[ { 'company': 'ExxonMobil', 'fine': 4500, 'date': '2011-01-02' },\n",
    "{ 'company':'BP', 'fine': 320, 'date': '2012-02-12' },\n",
    "{ 'company': 'ExxonMobil', 'fine': 7200, 'date': '2012-04-09' },\n",
    "{ 'company': 'Chevron', 'fine': 80000, 'date': '2011-01-02' } ]\n",
    "\n"
   ]
  },
  {
   "cell_type": "code",
   "execution_count": 3,
   "metadata": {
    "collapsed": false
   },
   "outputs": [],
   "source": [
    "companies = [ { 'company': 'ExxonMobil', 'fine': 4500, 'date': '2011-01-02' },\n",
    "{ 'company':'BP', 'fine': 320, 'date': '2012-02-12' },\n",
    "{ 'company': 'ExxonMobil', 'fine': 7200, 'date': '2012-04-09' },\n",
    "{ 'company': 'Chevron', 'fine': 80000, 'date': '2011-01-02' } ]"
   ]
  },
  {
   "cell_type": "markdown",
   "metadata": {},
   "source": [
    "4) What's the data type of the above?\n",
    "\n",
    "5) Count the number of times Chevron appears in the list. Tip: list comprehensions are your friend\n",
    "\n",
    "6) Sum up the fines that were from ExxonMobil. Tip: You can put conditions in a list comprehension! See the rather confusing but possibly helpful code below.\n",
    "\n",
    "num = [1, 2, 3, 4]\n",
    "[num * 2 for num in numbers if num > 2]\n",
    "**This will create the list [6, 8]"
   ]
  },
  {
   "cell_type": "markdown",
   "metadata": {},
   "source": [
    "list of dictionaries"
   ]
  },
  {
   "cell_type": "markdown",
   "metadata": {},
   "source": [
    "5) Count the number of times Chevron appears in the list. Tip: list comprehensions are your friend\n",
    "6) Sum up the fines that were from ExxonMobil. Tip: You can put conditions in a list comprehension! See the rather confusing but possibly helpful code below.\n",
    "num = [1, 2, 3, 4] [num 2 for num in numbers if num > 2] *This will create the list [6, 8]"
   ]
  },
  {
   "cell_type": "code",
   "execution_count": 4,
   "metadata": {
    "collapsed": true
   },
   "outputs": [],
   "source": [
    "company_names = [comp['company']for comp in companies]\n"
   ]
  },
  {
   "cell_type": "code",
   "execution_count": 5,
   "metadata": {
    "collapsed": false
   },
   "outputs": [
    {
     "data": {
      "text/plain": [
       "['ExxonMobil', 'BP', 'ExxonMobil', 'Chevron']"
      ]
     },
     "execution_count": 5,
     "metadata": {},
     "output_type": "execute_result"
    }
   ],
   "source": [
    "company_names\n"
   ]
  },
  {
   "cell_type": "code",
   "execution_count": 6,
   "metadata": {
    "collapsed": false
   },
   "outputs": [
    {
     "data": {
      "text/plain": [
       "1"
      ]
     },
     "execution_count": 6,
     "metadata": {},
     "output_type": "execute_result"
    }
   ],
   "source": [
    "company_names.count(\"Chevron\")"
   ]
  },
  {
   "cell_type": "markdown",
   "metadata": {},
   "source": [
    "6) Sum up the fines that were from ExxonMobil. Tip: You can put conditions in a list comprehension! See the rather confusing but possibly helpful code below.\n",
    "num = [1, 2, 3, 4] [num 2 for num in numbers if num > 2] *This will create the list [6, 8]"
   ]
  },
  {
   "cell_type": "code",
   "execution_count": 8,
   "metadata": {
    "collapsed": false
   },
   "outputs": [
    {
     "data": {
      "text/plain": [
       "['Chevron']"
      ]
     },
     "execution_count": 8,
     "metadata": {},
     "output_type": "execute_result"
    }
   ],
   "source": [
    "#for filtering the data\n",
    "[c['company']for c in companies if c['company']== 'Chevron']"
   ]
  },
  {
   "cell_type": "code",
   "execution_count": 11,
   "metadata": {
    "collapsed": true
   },
   "outputs": [],
   "source": [
    "fines =[c['fine']for c in companies if c['company']== 'ExxonMobil']"
   ]
  },
  {
   "cell_type": "code",
   "execution_count": 12,
   "metadata": {
    "collapsed": false
   },
   "outputs": [
    {
     "data": {
      "text/plain": [
       "[4500, 7200]"
      ]
     },
     "execution_count": 12,
     "metadata": {},
     "output_type": "execute_result"
    }
   ],
   "source": [
    "fines"
   ]
  },
  {
   "cell_type": "code",
   "execution_count": 13,
   "metadata": {
    "collapsed": false
   },
   "outputs": [
    {
     "data": {
      "text/plain": [
       "11700"
      ]
     },
     "execution_count": 13,
     "metadata": {},
     "output_type": "execute_result"
    }
   ],
   "source": [
    "sum(fines)"
   ]
  },
  {
   "cell_type": "code",
   "execution_count": null,
   "metadata": {
    "collapsed": true
   },
   "outputs": [],
   "source": []
  }
 ],
 "metadata": {
  "kernelspec": {
   "display_name": "Python 2",
   "language": "python",
   "name": "python2"
  },
  "language_info": {
   "codemirror_mode": {
    "name": "ipython",
    "version": 2
   },
   "file_extension": ".py",
   "mimetype": "text/x-python",
   "name": "python",
   "nbconvert_exporter": "python",
   "pygments_lexer": "ipython2",
   "version": "2.7.9"
  }
 },
 "nbformat": 4,
 "nbformat_minor": 0
}

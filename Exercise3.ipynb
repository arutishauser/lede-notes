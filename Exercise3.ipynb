{
 "cells": [
  {
   "cell_type": "markdown",
   "metadata": {},
   "source": [
    "1. Write\n",
    "a\n",
    "function\n",
    "that\n",
    "takes\n",
    "in\n",
    "a\n",
    "list\n",
    "of\n",
    "numbers\n",
    "and\n",
    "outputs\n",
    "the\n",
    "mean\n",
    "of\n",
    "the\n",
    "numbers\n",
    "using\n",
    "the\n",
    "formula\n",
    "for\n",
    "mean.\n",
    "Do\n",
    "this\n",
    "without\n",
    "any\n",
    "built-­‐in\n",
    "functions\n",
    "like\n",
    "sum(),\n",
    "len(),\n",
    "and,\n",
    "of\n",
    "course,\n",
    "mean()"
   ]
  },
  {
   "cell_type": "code",
   "execution_count": 2,
   "metadata": {
    "collapsed": false
   },
   "outputs": [
    {
     "name": "stdout",
     "output_type": "stream",
     "text": [
      "3\n"
     ]
    }
   ],
   "source": [
    "def mean (a, b):\n",
    "    c=(a+b)/2\n",
    "    return c\n",
    "print mean (3,4)"
   ]
  },
  {
   "cell_type": "code",
   "execution_count": 20,
   "metadata": {
    "collapsed": true
   },
   "outputs": [],
   "source": [
    "n=[1,2,3,4,5, 6,7,8,9,2,3,4,5,6,7,]"
   ]
  },
  {
   "cell_type": "code",
   "execution_count": 7,
   "metadata": {
    "collapsed": true
   },
   "outputs": [],
   "source": [
    "def run():\n",
    "    sum_ = 0\n",
    "    for i in range(11):\n",
    "        sum_ += i\n",
    "    return sum_"
   ]
  },
  {
   "cell_type": "code",
   "execution_count": 22,
   "metadata": {
    "collapsed": false
   },
   "outputs": [
    {
     "name": "stdout",
     "output_type": "stream",
     "text": [
      "4\n",
      "5\n",
      "6\n",
      "7\n",
      "8\n"
     ]
    }
   ],
   "source": [
    "b=4\n",
    "for i in range(5):\n",
    "    print b\n",
    "    b+=1"
   ]
  },
  {
   "cell_type": "code",
   "execution_count": 5,
   "metadata": {
    "collapsed": true
   },
   "outputs": [],
   "source": [
    "def list_mean(n):\n",
    "\n",
    "    summing = float(sum(n))\n",
    "    count = float(len(n))\n",
    "    if n == []:\n",
    "        return False\n",
    "    return float(summing/count)"
   ]
  },
  {
   "cell_type": "code",
   "execution_count": 6,
   "metadata": {
    "collapsed": false
   },
   "outputs": [
    {
     "name": "stdout",
     "output_type": "stream",
     "text": [
      "3.0\n"
     ]
    }
   ],
   "source": [
    "print list_mean(n)"
   ]
  },
  {
   "cell_type": "code",
   "execution_count": 13,
   "metadata": {
    "collapsed": false
   },
   "outputs": [
    {
     "name": "stdout",
     "output_type": "stream",
     "text": [
      "3\n"
     ]
    }
   ],
   "source": [
    "list_sum=0\n",
    "list_count=0\n",
    "for i in n:\n",
    "    list_sum=list_sum+i\n",
    "    list_count=list_count+1\n",
    "print list_sum/list_count"
   ]
  },
  {
   "cell_type": "code",
   "execution_count": 21,
   "metadata": {
    "collapsed": false
   },
   "outputs": [
    {
     "name": "stdout",
     "output_type": "stream",
     "text": [
      "4\n"
     ]
    }
   ],
   "source": [
    "def mean(n):\n",
    "    list_sum = 0\n",
    "    list_count = 0\n",
    "    for i in n:\n",
    "        list_sum = list_sum+i\n",
    "        list_count = list_count+1\n",
    "    return list_sum/list_count\n",
    "print mean (n)\n"
   ]
  },
  {
   "cell_type": "markdown",
   "metadata": {},
   "source": [
    "2. Create\n",
    "your\n",
    "own\n",
    "version\n",
    "of\n",
    "the\n",
    "Mayoral\n",
    "Excuse\n",
    "Machine\n",
    "(http://dnain.fo/1CCHKmI)\n",
    "in\n",
    "Python\n",
    "that\n",
    "takes\n",
    "in\n",
    "a\n",
    "name\n",
    "and\n",
    "location,\n",
    "selects\n",
    "an\n",
    "excuse\n",
    "at\n",
    "random\n",
    "and\n",
    "prints\n",
    "an\n",
    "excuse\n",
    "(“Sorry,\n",
    "Richard,\n",
    "I\n",
    "was\n",
    "late\n",
    "to\n",
    "City\n",
    "Hall\n",
    "to\n",
    "meet\n",
    "you,\n",
    "I\n",
    "had\n",
    "a\n",
    "very\n",
    "rough\n",
    "night\n",
    "and\n",
    "woke\n",
    "up\n",
    "sluggish”).\n",
    "Use\n",
    "the\n",
    "“excuses.csv”\n",
    "in\n",
    "the\n",
    "Github\n",
    "repository.\n",
    "Extra\n",
    "credit\n",
    "if\n",
    "you\n",
    "print\n",
    "the\n",
    "link\n",
    "to\n",
    "the\n",
    "story\n",
    "as\n",
    "well."
   ]
  },
  {
   "cell_type": "code",
   "execution_count": 121,
   "metadata": {
    "collapsed": false
   },
   "outputs": [],
   "source": [
    "import csv\n",
    "file = open(\"excuse.csv\", 'rU')"
   ]
  },
  {
   "cell_type": "code",
   "execution_count": 122,
   "metadata": {
    "collapsed": false
   },
   "outputs": [],
   "source": [
    "excuse = csv.reader(file)"
   ]
  },
  {
   "cell_type": "code",
   "execution_count": 123,
   "metadata": {
    "collapsed": false
   },
   "outputs": [
    {
     "name": "stdout",
     "output_type": "stream",
     "text": [
      "['excuse', 'headline', 'hyperlink']\n",
      "['the fog was unexpected and did slow us down a bit', \"De Blasio Blames 'Rough Night' and Fog for Missing Flight 587 Ceremony\", 'http://www.dnainfo.com/new-york/20141112/rockaway-park/de-blasio-arrives-20-minutes-late-flight-587-memorial-angering-families']\n",
      "['we had some meetings at Gracie Mansion', \"De Blasio 30 Minutes Late to Rockaway St. Patrick's Day Parade\", 'http://www.dnainfo.com/new-york/20150307/belle-harbor/de-blasio-30-minutes-late-rockaway-st-patricks-day-parade']\n",
      "['I had a very rough night and woke up sluggish', \"De Blasio Blames 'Rough Night' and Fog for Missing Flight 587 Ceremony\", 'http://www.dnainfo.com/new-york/20141112/rockaway-park/de-blasio-arrives-20-minutes-late-flight-587-memorial-angering-families']\n",
      "['I just woke up in the middle of the night and couldn\\x89\\xdb\\xaat get back to sleep', \"De Blasio Blames 'Rough Night' and Fog for Missing Flight 587 Ceremony\", 'http://www.dnainfo.com/new-york/20141112/rockaway-park/de-blasio-arrives-20-minutes-late-flight-587-memorial-angering-families']\n",
      "['we had some stuff we had to do', \"De Blasio 30 Minutes Late to Rockaway St. Patrick's Day Parade\", 'http://www.dnainfo.com/new-york/20150307/belle-harbor/de-blasio-30-minutes-late-rockaway-st-patricks-day-parade']\n",
      "['I should have gotten myself moving quicker', \"De Blasio Blames 'Rough Night' and Fog for Missing Flight 587 Ceremony\", 'http://www.dnainfo.com/new-york/20141112/rockaway-park/de-blasio-arrives-20-minutes-late-flight-587-memorial-angering-families']\n",
      "['I was just not feeling well this morning', \"De Blasio Blames 'Rough Night' and Fog for Missing Flight 587 Ceremony\", 'http://www.dnainfo.com/new-york/20141112/rockaway-park/de-blasio-arrives-20-minutes-late-flight-587-memorial-angering-families']\n",
      "['breakfast began a little later than expected', \"De Blasio 15 Minutes Late to St. Patrick's Day Mass, Blames Breakfast\", 'http://www.dnainfo.com/new-york/20150317/midtown/de-blasio-15-minutes-late-st-patricks-day-mass-blames-breakfast']\n",
      "['the detail drove away when we went into the subway rather than waiting to confirm we got on a train', 'Mayor de Blasio Is Irked by a Subway Delay', 'http://www.nytimes.com/2015/05/06/nyregion/mayor-de-blasio-is-irked-by-a-subway-delay.html?ref=nyregion&_r=0']\n",
      "['we waited 20 mins for an express only to hear there were major delays', 'Mayor de Blasio Is Irked by a Subway Delay', 'http://www.nytimes.com/2015/05/06/nyregion/mayor-de-blasio-is-irked-by-a-subway-delay.html?ref=nyregion&_r=0']\n",
      "['we need a better system', 'Mayor de Blasio Is Irked by a Subway Delay', 'http://www.nytimes.com/2015/05/06/nyregion/mayor-de-blasio-is-irked-by-a-subway-delay.html?ref=nyregion&_r=0']\n"
     ]
    }
   ],
   "source": [
    "for line in excuse:\n",
    "    print line"
   ]
  },
  {
   "cell_type": "code",
   "execution_count": 115,
   "metadata": {
    "collapsed": false
   },
   "outputs": [],
   "source": []
  },
  {
   "cell_type": "code",
   "execution_count": 116,
   "metadata": {
    "collapsed": false
   },
   "outputs": [
    {
     "data": {
      "text/plain": [
       "[1]"
      ]
     },
     "execution_count": 116,
     "metadata": {},
     "output_type": "execute_result"
    }
   ],
   "source": []
  },
  {
   "cell_type": "code",
   "execution_count": 84,
   "metadata": {
    "collapsed": false
   },
   "outputs": [
    {
     "ename": "TypeError",
     "evalue": "list indices must be integers, not str",
     "output_type": "error",
     "traceback": [
      "\u001b[0;31m---------------------------------------------------------------------------\u001b[0m",
      "\u001b[0;31mTypeError\u001b[0m                                 Traceback (most recent call last)",
      "\u001b[0;32m<ipython-input-84-9aa64f300c47>\u001b[0m in \u001b[0;36m<module>\u001b[0;34m()\u001b[0m\n\u001b[1;32m      1\u001b[0m \u001b[0;32mdef\u001b[0m \u001b[0mexcuse\u001b[0m \u001b[0;34m(\u001b[0m\u001b[0mname\u001b[0m\u001b[0;34m,\u001b[0m \u001b[0mlocation\u001b[0m\u001b[0;34m)\u001b[0m\u001b[0;34m:\u001b[0m\u001b[0;34m\u001b[0m\u001b[0m\n\u001b[1;32m      2\u001b[0m     \u001b[0;32mreturn\u001b[0m  \u001b[0mline\u001b[0m\u001b[0;34m[\u001b[0m\u001b[0;34m'excuse'\u001b[0m\u001b[0;34m]\u001b[0m\u001b[0;34m\u001b[0m\u001b[0m\n\u001b[0;32m----> 3\u001b[0;31m \u001b[0;32mprint\u001b[0m \u001b[0mexcuse\u001b[0m \u001b[0;34m(\u001b[0m\u001b[0;34m\"Arthur\"\u001b[0m\u001b[0;34m,\u001b[0m\u001b[0;34m\"Bahnhof\"\u001b[0m\u001b[0;34m)\u001b[0m\u001b[0;34m\u001b[0m\u001b[0m\n\u001b[0m",
      "\u001b[0;32m<ipython-input-84-9aa64f300c47>\u001b[0m in \u001b[0;36mexcuse\u001b[0;34m(name, location)\u001b[0m\n\u001b[1;32m      1\u001b[0m \u001b[0;32mdef\u001b[0m \u001b[0mexcuse\u001b[0m \u001b[0;34m(\u001b[0m\u001b[0mname\u001b[0m\u001b[0;34m,\u001b[0m \u001b[0mlocation\u001b[0m\u001b[0;34m)\u001b[0m\u001b[0;34m:\u001b[0m\u001b[0;34m\u001b[0m\u001b[0m\n\u001b[0;32m----> 2\u001b[0;31m     \u001b[0;32mreturn\u001b[0m  \u001b[0mline\u001b[0m\u001b[0;34m[\u001b[0m\u001b[0;34m'excuse'\u001b[0m\u001b[0;34m]\u001b[0m\u001b[0;34m\u001b[0m\u001b[0m\n\u001b[0m\u001b[1;32m      3\u001b[0m \u001b[0;32mprint\u001b[0m \u001b[0mexcuse\u001b[0m \u001b[0;34m(\u001b[0m\u001b[0;34m\"Arthur\"\u001b[0m\u001b[0;34m,\u001b[0m\u001b[0;34m\"Bahnhof\"\u001b[0m\u001b[0;34m)\u001b[0m\u001b[0;34m\u001b[0m\u001b[0m\n",
      "\u001b[0;31mTypeError\u001b[0m: list indices must be integers, not str"
     ]
    }
   ],
   "source": [
    "def excuse (name, location):\n",
    "    return  line['excuse']\n",
    "print excuse (\"Arthur\",\"Bahnhof\")"
   ]
  },
  {
   "cell_type": "code",
   "execution_count": 92,
   "metadata": {
    "collapsed": false
   },
   "outputs": [
    {
     "ename": "AttributeError",
     "evalue": "'function' object has no attribute 'keys'",
     "output_type": "error",
     "traceback": [
      "\u001b[0;31m---------------------------------------------------------------------------\u001b[0m",
      "\u001b[0;31mAttributeError\u001b[0m                            Traceback (most recent call last)",
      "\u001b[0;32m<ipython-input-92-e6093b8c5c0c>\u001b[0m in \u001b[0;36m<module>\u001b[0;34m()\u001b[0m\n\u001b[0;32m----> 1\u001b[0;31m \u001b[0mexcuse\u001b[0m\u001b[0;34m.\u001b[0m\u001b[0mkeys\u001b[0m\u001b[0;34m(\u001b[0m\u001b[0;34m)\u001b[0m\u001b[0;34m\u001b[0m\u001b[0m\n\u001b[0m",
      "\u001b[0;31mAttributeError\u001b[0m: 'function' object has no attribute 'keys'"
     ]
    }
   ],
   "source": [
    "excuse.keys()"
   ]
  },
  {
   "cell_type": "code",
   "execution_count": 124,
   "metadata": {
    "collapsed": false
   },
   "outputs": [
    {
     "ename": "TypeError",
     "evalue": "list indices must be integers, not str",
     "output_type": "error",
     "traceback": [
      "\u001b[0;31m---------------------------------------------------------------------------\u001b[0m",
      "\u001b[0;31mTypeError\u001b[0m                                 Traceback (most recent call last)",
      "\u001b[0;32m<ipython-input-124-1521aadb4628>\u001b[0m in \u001b[0;36m<module>\u001b[0;34m()\u001b[0m\n\u001b[0;32m----> 1\u001b[0;31m \u001b[0mline\u001b[0m\u001b[0;34m[\u001b[0m\u001b[0;34m'excuse'\u001b[0m\u001b[0;34m]\u001b[0m\u001b[0;34m\u001b[0m\u001b[0m\n\u001b[0m",
      "\u001b[0;31mTypeError\u001b[0m: list indices must be integers, not str"
     ]
    }
   ],
   "source": [
    "line['excuse']"
   ]
  },
  {
   "cell_type": "code",
   "execution_count": 140,
   "metadata": {
    "collapsed": true
   },
   "outputs": [],
   "source": [
    "import csv\n",
    "import random\n",
    "file = open(\"excuse.csv\", 'rU')\n",
    "all_excuse = list(csv.DictReader(file))"
   ]
  },
  {
   "cell_type": "code",
   "execution_count": 78,
   "metadata": {
    "collapsed": false
   },
   "outputs": [
    {
     "data": {
      "text/plain": [
       "[{'excuse': 'the fog was unexpected and did slow us down a bit',\n",
       "  'headline': \"De Blasio Blames 'Rough Night' and Fog for Missing Flight 587 Ceremony\",\n",
       "  'hyperlink': 'http://www.dnainfo.com/new-york/20141112/rockaway-park/de-blasio-arrives-20-minutes-late-flight-587-memorial-angering-families'},\n",
       " {'excuse': 'we had some meetings at Gracie Mansion',\n",
       "  'headline': \"De Blasio 30 Minutes Late to Rockaway St. Patrick's Day Parade\",\n",
       "  'hyperlink': 'http://www.dnainfo.com/new-york/20150307/belle-harbor/de-blasio-30-minutes-late-rockaway-st-patricks-day-parade'},\n",
       " {'excuse': 'I had a very rough night and woke up sluggish',\n",
       "  'headline': \"De Blasio Blames 'Rough Night' and Fog for Missing Flight 587 Ceremony\",\n",
       "  'hyperlink': 'http://www.dnainfo.com/new-york/20141112/rockaway-park/de-blasio-arrives-20-minutes-late-flight-587-memorial-angering-families'},\n",
       " {'excuse': 'I just woke up in the middle of the night and couldn\\x89\\xdb\\xaat get back to sleep',\n",
       "  'headline': \"De Blasio Blames 'Rough Night' and Fog for Missing Flight 587 Ceremony\",\n",
       "  'hyperlink': 'http://www.dnainfo.com/new-york/20141112/rockaway-park/de-blasio-arrives-20-minutes-late-flight-587-memorial-angering-families'},\n",
       " {'excuse': 'we had some stuff we had to do',\n",
       "  'headline': \"De Blasio 30 Minutes Late to Rockaway St. Patrick's Day Parade\",\n",
       "  'hyperlink': 'http://www.dnainfo.com/new-york/20150307/belle-harbor/de-blasio-30-minutes-late-rockaway-st-patricks-day-parade'},\n",
       " {'excuse': 'I should have gotten myself moving quicker',\n",
       "  'headline': \"De Blasio Blames 'Rough Night' and Fog for Missing Flight 587 Ceremony\",\n",
       "  'hyperlink': 'http://www.dnainfo.com/new-york/20141112/rockaway-park/de-blasio-arrives-20-minutes-late-flight-587-memorial-angering-families'},\n",
       " {'excuse': 'I was just not feeling well this morning',\n",
       "  'headline': \"De Blasio Blames 'Rough Night' and Fog for Missing Flight 587 Ceremony\",\n",
       "  'hyperlink': 'http://www.dnainfo.com/new-york/20141112/rockaway-park/de-blasio-arrives-20-minutes-late-flight-587-memorial-angering-families'},\n",
       " {'excuse': 'breakfast began a little later than expected',\n",
       "  'headline': \"De Blasio 15 Minutes Late to St. Patrick's Day Mass, Blames Breakfast\",\n",
       "  'hyperlink': 'http://www.dnainfo.com/new-york/20150317/midtown/de-blasio-15-minutes-late-st-patricks-day-mass-blames-breakfast'},\n",
       " {'excuse': 'the detail drove away when we went into the subway rather than waiting to confirm we got on a train',\n",
       "  'headline': 'Mayor de Blasio Is Irked by a Subway Delay',\n",
       "  'hyperlink': 'http://www.nytimes.com/2015/05/06/nyregion/mayor-de-blasio-is-irked-by-a-subway-delay.html?ref=nyregion&_r=0'},\n",
       " {'excuse': 'we waited 20 mins for an express only to hear there were major delays',\n",
       "  'headline': 'Mayor de Blasio Is Irked by a Subway Delay',\n",
       "  'hyperlink': 'http://www.nytimes.com/2015/05/06/nyregion/mayor-de-blasio-is-irked-by-a-subway-delay.html?ref=nyregion&_r=0'},\n",
       " {'excuse': 'we need a better system',\n",
       "  'headline': 'Mayor de Blasio Is Irked by a Subway Delay',\n",
       "  'hyperlink': 'http://www.nytimes.com/2015/05/06/nyregion/mayor-de-blasio-is-irked-by-a-subway-delay.html?ref=nyregion&_r=0'}]"
      ]
     },
     "execution_count": 78,
     "metadata": {},
     "output_type": "execute_result"
    }
   ],
   "source": [
    "all_excuse"
   ]
  },
  {
   "cell_type": "code",
   "execution_count": 141,
   "metadata": {
    "collapsed": false
   },
   "outputs": [
    {
     "name": "stdout",
     "output_type": "stream",
     "text": [
      "{'headline': \"De Blasio Blames 'Rough Night' and Fog for Missing Flight 587 Ceremony\", 'excuse': 'the fog was unexpected and did slow us down a bit', 'hyperlink': 'http://www.dnainfo.com/new-york/20141112/rockaway-park/de-blasio-arrives-20-minutes-late-flight-587-memorial-angering-families'}\n",
      "{'headline': \"De Blasio 30 Minutes Late to Rockaway St. Patrick's Day Parade\", 'excuse': 'we had some meetings at Gracie Mansion', 'hyperlink': 'http://www.dnainfo.com/new-york/20150307/belle-harbor/de-blasio-30-minutes-late-rockaway-st-patricks-day-parade'}\n",
      "{'headline': \"De Blasio Blames 'Rough Night' and Fog for Missing Flight 587 Ceremony\", 'excuse': 'I had a very rough night and woke up sluggish', 'hyperlink': 'http://www.dnainfo.com/new-york/20141112/rockaway-park/de-blasio-arrives-20-minutes-late-flight-587-memorial-angering-families'}\n",
      "{'headline': \"De Blasio Blames 'Rough Night' and Fog for Missing Flight 587 Ceremony\", 'excuse': 'I just woke up in the middle of the night and couldn\\x89\\xdb\\xaat get back to sleep', 'hyperlink': 'http://www.dnainfo.com/new-york/20141112/rockaway-park/de-blasio-arrives-20-minutes-late-flight-587-memorial-angering-families'}\n",
      "{'headline': \"De Blasio 30 Minutes Late to Rockaway St. Patrick's Day Parade\", 'excuse': 'we had some stuff we had to do', 'hyperlink': 'http://www.dnainfo.com/new-york/20150307/belle-harbor/de-blasio-30-minutes-late-rockaway-st-patricks-day-parade'}\n",
      "{'headline': \"De Blasio Blames 'Rough Night' and Fog for Missing Flight 587 Ceremony\", 'excuse': 'I should have gotten myself moving quicker', 'hyperlink': 'http://www.dnainfo.com/new-york/20141112/rockaway-park/de-blasio-arrives-20-minutes-late-flight-587-memorial-angering-families'}\n",
      "{'headline': \"De Blasio Blames 'Rough Night' and Fog for Missing Flight 587 Ceremony\", 'excuse': 'I was just not feeling well this morning', 'hyperlink': 'http://www.dnainfo.com/new-york/20141112/rockaway-park/de-blasio-arrives-20-minutes-late-flight-587-memorial-angering-families'}\n",
      "{'headline': \"De Blasio 15 Minutes Late to St. Patrick's Day Mass, Blames Breakfast\", 'excuse': 'breakfast began a little later than expected', 'hyperlink': 'http://www.dnainfo.com/new-york/20150317/midtown/de-blasio-15-minutes-late-st-patricks-day-mass-blames-breakfast'}\n",
      "{'headline': 'Mayor de Blasio Is Irked by a Subway Delay', 'excuse': 'the detail drove away when we went into the subway rather than waiting to confirm we got on a train', 'hyperlink': 'http://www.nytimes.com/2015/05/06/nyregion/mayor-de-blasio-is-irked-by-a-subway-delay.html?ref=nyregion&_r=0'}\n",
      "{'headline': 'Mayor de Blasio Is Irked by a Subway Delay', 'excuse': 'we waited 20 mins for an express only to hear there were major delays', 'hyperlink': 'http://www.nytimes.com/2015/05/06/nyregion/mayor-de-blasio-is-irked-by-a-subway-delay.html?ref=nyregion&_r=0'}\n",
      "{'headline': 'Mayor de Blasio Is Irked by a Subway Delay', 'excuse': 'we need a better system', 'hyperlink': 'http://www.nytimes.com/2015/05/06/nyregion/mayor-de-blasio-is-irked-by-a-subway-delay.html?ref=nyregion&_r=0'}\n"
     ]
    }
   ],
   "source": [
    "for line in all_excuse:\n",
    "    print line"
   ]
  },
  {
   "cell_type": "code",
   "execution_count": 208,
   "metadata": {
    "collapsed": false
   },
   "outputs": [],
   "source": [
    "random_excuse = random.choice (all_excuse)"
   ]
  },
  {
   "cell_type": "code",
   "execution_count": 209,
   "metadata": {
    "collapsed": false
   },
   "outputs": [
    {
     "data": {
      "text/plain": [
       "{'excuse': 'I was just not feeling well this morning',\n",
       " 'headline': \"De Blasio Blames 'Rough Night' and Fog for Missing Flight 587 Ceremony\",\n",
       " 'hyperlink': 'http://www.dnainfo.com/new-york/20141112/rockaway-park/de-blasio-arrives-20-minutes-late-flight-587-memorial-angering-families'}"
      ]
     },
     "execution_count": 209,
     "metadata": {},
     "output_type": "execute_result"
    }
   ],
   "source": [
    "random_excuse"
   ]
  },
  {
   "cell_type": "code",
   "execution_count": 210,
   "metadata": {
    "collapsed": false
   },
   "outputs": [
    {
     "data": {
      "text/plain": [
       "'I was just not feeling well this morning'"
      ]
     },
     "execution_count": 210,
     "metadata": {},
     "output_type": "execute_result"
    }
   ],
   "source": [
    "random_excuse ['excuse']"
   ]
  },
  {
   "cell_type": "code",
   "execution_count": 211,
   "metadata": {
    "collapsed": false
   },
   "outputs": [
    {
     "data": {
      "text/plain": [
       "'http://www.dnainfo.com/new-york/20141112/rockaway-park/de-blasio-arrives-20-minutes-late-flight-587-memorial-angering-families'"
      ]
     },
     "execution_count": 211,
     "metadata": {},
     "output_type": "execute_result"
    }
   ],
   "source": [
    "random_excuse ['hyperlink']"
   ]
  },
  {
   "cell_type": "code",
   "execution_count": 212,
   "metadata": {
    "collapsed": false
   },
   "outputs": [
    {
     "name": "stdout",
     "output_type": "stream",
     "text": [
      "the fog was unexpected and did slow us down a bit http://www.dnainfo.com/new-york/20141112/rockaway-park/de-blasio-arrives-20-minutes-late-flight-587-memorial-angering-families\n"
     ]
    }
   ],
   "source": [
    "random_excuse = random.choice (all_excuse)\n",
    "print random_excuse ['excuse'], random_excuse ['hyperlink']"
   ]
  },
  {
   "cell_type": "code",
   "execution_count": 218,
   "metadata": {
    "collapsed": false
   },
   "outputs": [
    {
     "name": "stdout",
     "output_type": "stream",
     "text": [
      "Enter your name: Arthur\n"
     ]
    }
   ],
   "source": [
    "name= raw_input(\"Enter your name: \")"
   ]
  },
  {
   "cell_type": "code",
   "execution_count": 219,
   "metadata": {
    "collapsed": false
   },
   "outputs": [
    {
     "name": "stdout",
     "output_type": "stream",
     "text": [
      "Enter your location: AJZ\n"
     ]
    }
   ],
   "source": [
    "location=raw_input(\"Enter your location: \")"
   ]
  },
  {
   "cell_type": "code",
   "execution_count": 223,
   "metadata": {
    "collapsed": false
   },
   "outputs": [
    {
     "name": "stdout",
     "output_type": "stream",
     "text": [
      "Enter your name: Arthur\n",
      "Enter your location: Arosa\n",
      "('Sorry', 'Arthur', 'I was late at the', 'Arosa', 'because ', 'the fog was unexpected and did slow us down a bit', 'and this is the full storry', 'http://www.dnainfo.com/new-york/20141112/rockaway-park/de-blasio-arrives-20-minutes-late-flight-587-memorial-angering-families')\n"
     ]
    }
   ],
   "source": [
    "name= raw_input(\"Enter your name: \")\n",
    "location=raw_input(\"Enter your location: \")\n",
    "def excuse (name, location):\n",
    "    random_excuse = random.choice (all_excuse)\n",
    "    return \"Sorry\", name, \"I was late at the\",location, \"because \", random_excuse ['excuse'],\"and this is the full storry\", random_excuse ['hyperlink'],  \n",
    "print excuse (name, location)"
   ]
  },
  {
   "cell_type": "code",
   "execution_count": 216,
   "metadata": {
    "collapsed": true
   },
   "outputs": [],
   "source": [
    "which_list = random.choice(line.values())"
   ]
  },
  {
   "cell_type": "code",
   "execution_count": 217,
   "metadata": {
    "collapsed": false
   },
   "outputs": [
    {
     "data": {
      "text/plain": [
       "'Mayor de Blasio Is Irked by a Subway Delay'"
      ]
     },
     "execution_count": 217,
     "metadata": {},
     "output_type": "execute_result"
    }
   ],
   "source": [
    "which_list"
   ]
  },
  {
   "cell_type": "code",
   "execution_count": 152,
   "metadata": {
    "collapsed": false
   },
   "outputs": [
    {
     "data": {
      "text/plain": [
       "'we need a better system'"
      ]
     },
     "execution_count": 152,
     "metadata": {},
     "output_type": "execute_result"
    }
   ],
   "source": [
    "random.choice(line.values())"
   ]
  },
  {
   "cell_type": "code",
   "execution_count": 105,
   "metadata": {
    "collapsed": false
   },
   "outputs": [
    {
     "data": {
      "text/plain": [
       "['headline', 'excuse', 'hyperlink']"
      ]
     },
     "execution_count": 105,
     "metadata": {},
     "output_type": "execute_result"
    }
   ],
   "source": [
    "line.keys()"
   ]
  },
  {
   "cell_type": "code",
   "execution_count": 106,
   "metadata": {
    "collapsed": false
   },
   "outputs": [
    {
     "data": {
      "text/plain": [
       "'http://www.nytimes.com/2015/05/06/nyregion/mayor-de-blasio-is-irked-by-a-subway-delay.html?ref=nyregion&_r=0'"
      ]
     },
     "execution_count": 106,
     "metadata": {},
     "output_type": "execute_result"
    }
   ],
   "source": [
    "line ['hyperlink']"
   ]
  },
  {
   "cell_type": "code",
   "execution_count": 133,
   "metadata": {
    "collapsed": false
   },
   "outputs": [],
   "source": [
    "name = \"Arthur\""
   ]
  },
  {
   "cell_type": "code",
   "execution_count": 167,
   "metadata": {
    "collapsed": false
   },
   "outputs": [
    {
     "name": "stdout",
     "output_type": "stream",
     "text": [
      "Arthur we need a better system\n"
     ]
    }
   ],
   "source": [
    "def excuse (name, location):\n",
    "    return  line['excuse']\n",
    "print name, excuse (\"Arthur\",\"Bahnhof\")"
   ]
  },
  {
   "cell_type": "code",
   "execution_count": 95,
   "metadata": {
    "collapsed": false
   },
   "outputs": [
    {
     "name": "stdout",
     "output_type": "stream",
     "text": [
      "Sorry Vanessa I was late to Paris to meet you we need a better system\n"
     ]
    }
   ],
   "source": [
    "import csv\n",
    "import random\n",
    "myfile = open(\"excuse.csv\", 'rU')\n",
    "excuse = csv.DictReader(myfile)\n",
    "\n",
    "def excuse(name, location):\n",
    "  return \"Sorry \" + name + \" I was late to \" + location + \" to meet you \" + line[\"excuse\"]\n",
    "print excuse(\"Vanessa\", \"Paris\")"
   ]
  },
  {
   "cell_type": "code",
   "execution_count": 98,
   "metadata": {
    "collapsed": false
   },
   "outputs": [
    {
     "data": {
      "text/plain": [
       "<function __main__.excuse>"
      ]
     },
     "execution_count": 98,
     "metadata": {},
     "output_type": "execute_result"
    }
   ],
   "source": [
    "excuse"
   ]
  },
  {
   "cell_type": "code",
   "execution_count": 97,
   "metadata": {
    "collapsed": false
   },
   "outputs": [
    {
     "data": {
      "text/plain": [
       "'we need a better system'"
      ]
     },
     "execution_count": 97,
     "metadata": {},
     "output_type": "execute_result"
    }
   ],
   "source": [
    "line[\"excuse\"]\n"
   ]
  },
  {
   "cell_type": "code",
   "execution_count": 96,
   "metadata": {
    "collapsed": false
   },
   "outputs": [
    {
     "ename": "TypeError",
     "evalue": "'function' object is not iterable",
     "output_type": "error",
     "traceback": [
      "\u001b[0;31m---------------------------------------------------------------------------\u001b[0m",
      "\u001b[0;31mTypeError\u001b[0m                                 Traceback (most recent call last)",
      "\u001b[0;32m<ipython-input-96-c5c971db8ae1>\u001b[0m in \u001b[0;36m<module>\u001b[0;34m()\u001b[0m\n\u001b[0;32m----> 1\u001b[0;31m \u001b[0;32mfor\u001b[0m \u001b[0mline\u001b[0m \u001b[0;32min\u001b[0m \u001b[0mexcuse\u001b[0m\u001b[0;34m:\u001b[0m\u001b[0;34m\u001b[0m\u001b[0m\n\u001b[0m\u001b[1;32m      2\u001b[0m     \u001b[0;32mprint\u001b[0m \u001b[0mline\u001b[0m\u001b[0;34m\u001b[0m\u001b[0m\n",
      "\u001b[0;31mTypeError\u001b[0m: 'function' object is not iterable"
     ]
    }
   ],
   "source": [
    "for line in excuse:\n",
    "    print line"
   ]
  },
  {
   "cell_type": "code",
   "execution_count": 99,
   "metadata": {
    "collapsed": true
   },
   "outputs": [],
   "source": [
    "import csv\n",
    "import random\n",
    "myfile = open(\"excuse.csv\", 'rU')\n",
    "excuse = csv.DictReader(myfile)\n"
   ]
  },
  {
   "cell_type": "code",
   "execution_count": 100,
   "metadata": {
    "collapsed": false
   },
   "outputs": [
    {
     "data": {
      "text/plain": [
       "<csv.DictReader instance at 0x1048a9098>"
      ]
     },
     "execution_count": 100,
     "metadata": {},
     "output_type": "execute_result"
    }
   ],
   "source": [
    "excuse"
   ]
  },
  {
   "cell_type": "markdown",
   "metadata": {},
   "source": [
    "# The following code will print the prime numbers between 1 and 100. Modify the code so it prints every other prime number from 1 to 100"
   ]
  },
  {
   "cell_type": "code",
   "execution_count": 25,
   "metadata": {
    "collapsed": false
   },
   "outputs": [
    {
     "name": "stdout",
     "output_type": "stream",
     "text": [
      "1\n",
      "3\n",
      "5\n",
      "7\n",
      "11\n",
      "13\n",
      "17\n",
      "19\n",
      "23\n",
      "29\n",
      "31\n",
      "37\n",
      "41\n",
      "43\n",
      "47\n",
      "53\n",
      "59\n",
      "61\n",
      "67\n",
      "71\n",
      "73\n",
      "79\n",
      "83\n",
      "89\n",
      "97\n"
     ]
    }
   ],
   "source": [
    "for num in range(1,101,2): # for-loop through the numbers\n",
    "    prime = True # boolean flag to check the number for being prime\n",
    "    for i in range(2,num): # for-loop to check for \"primeness\" by checking for divisors other than 1\n",
    "        if (num%i==0): # logical test for the number having a divisor other than 1 and itself\n",
    "            prime = False # if there's a divisor, the boolean value gets flipped to False\n",
    "    if prime: # if prime is still True after going through all numbers from 1 - 100, then it gets printed\n",
    "        print num"
   ]
  },
  {
   "cell_type": "markdown",
   "metadata": {},
   "source": [
    "# Extra Credit: Can you write a procedure that runs faster than the one above?"
   ]
  },
  {
   "cell_type": "code",
   "execution_count": null,
   "metadata": {
    "collapsed": false
   },
   "outputs": [],
   "source": []
  }
 ],
 "metadata": {
  "kernelspec": {
   "display_name": "Python 2",
   "language": "python",
   "name": "python2"
  },
  "language_info": {
   "codemirror_mode": {
    "name": "ipython",
    "version": 2
   },
   "file_extension": ".py",
   "mimetype": "text/x-python",
   "name": "python",
   "nbconvert_exporter": "python",
   "pygments_lexer": "ipython2",
   "version": "2.7.10"
  }
 },
 "nbformat": 4,
 "nbformat_minor": 0
}

{
 "cells": [
  {
   "cell_type": "markdown",
   "metadata": {},
   "source": [
    "Re: Session 9 Homework\n",
    "LÖSCHENANTWORTENALLEN ANTWORTENWEITERLEITEN\n",
    "Als ungelesen markieren\n",
    " \n",
    "Jonathan Soma <js4571@columbia.edu>\n",
    "Mi 24.06.2015 20:00\n",
    "An:\n",
    "Jonathan Soma <js4571@columbia.edu>;\n",
    "Cc:\n",
    "Aram Chung <aramology@gmail.com>;\n",
    "Roger Miller <rogeralexmiller@gmail.com>;\n",
    "Lab is in 607C today!\n",
    "\n",
    "On Wed, Jun 24, 2015 at 1:57 PM, Jonathan Soma <js4571@columbia.edu> wrote:\n",
    "If you'd like to brush up on your Python skills, you should go over the do-nows or you can try checking out Learn Python the Hard Way, which might do a good job at helping you out:http://learnpythonthehardway.org/book/\n",
    "\n",
    "Homework\n",
    "\n",
    "TIPS\n",
    "\n",
    "To find out if a value is in a list, you can use: 'blue' in ['orange', 'yellow', 'red']\n",
    "\n",
    "If you're ending up with a lot of 0's where you know there shouldn't be any, think about data types and the difference between 5 / 2 and 5.0 / 2 (try it out in IPython if you want).\n",
    "\n",
    "I know I've said it a hundred times, but don't sweat it if the more difficult pieces are more... difficult.\n",
    "\n",
    "#1. COOKING HELPER\n",
    "Cooking from recipes can be tough if you don't know how to convert units. Let's write a program to help that out!\n",
    "Write three functions to_cups, to_tablespoons and to_teaspoons. Each function takes two parameters, an amount and a measurement. Convert the amount of that measurement into the target measurement. i.e., to_teaspoons(3, 'tablespoons') should return the number 9, since 3 tablespoons = 9 teaspoons.\n",
    "Use these to test your function, and ask Google or Wolfram Alpha (http://www.wolframalpha.com/input/?i=1+cup+in+tablespoons)\n",
    "print to_cups(3, 'tablespoons')\n",
    "print to_tablespoons(9, 'teaspoons')\n",
    "print to_teaspoons(1, 'cups')"
   ]
  },
  {
   "cell_type": "code",
   "execution_count": 5,
   "metadata": {
    "collapsed": true
   },
   "outputs": [],
   "source": [
    "recipe = [ { 'amount': 3, 'measurement': 'cups', 'ingredient': 'flour' }, { 'amount': 1, 'measurement': 'tablespoons', 'ingredient': 'milk' }, { 'amount': 0.25, 'measurement': 'teaspoons', 'ingredient': 'salt' }, { 'amount': 1, 'measurement': 'cups', 'ingredient': 'butter' }, { 'amount': 0.75, 'measurement': 'cups', 'ingredient': 'baking powder' }, { 'amount': 0.25, 'measurement': 'cups', 'ingredient': 'egg' } ]"
   ]
  },
  {
   "cell_type": "code",
   "execution_count": 287,
   "metadata": {
    "collapsed": false
   },
   "outputs": [
    {
     "name": "stdout",
     "output_type": "stream",
     "text": [
      "7\n"
     ]
    }
   ],
   "source": [
    "def add( a, b):\n",
    "    cc=a+b\n",
    "    return cc\n",
    "print add(3,4)"
   ]
  },
  {
   "cell_type": "code",
   "execution_count": 56,
   "metadata": {
    "collapsed": false
   },
   "outputs": [
    {
     "name": "stdout",
     "output_type": "stream",
     "text": [
      "16\n"
     ]
    }
   ],
   "source": [
    "print add(7,9)"
   ]
  },
  {
   "cell_type": "code",
   "execution_count": 2,
   "metadata": {
    "collapsed": false
   },
   "outputs": [
    {
     "name": "stdout",
     "output_type": "stream",
     "text": [
      "0.1875\n",
      "144.0\n",
      "48.0\n"
     ]
    }
   ],
   "source": [
    "# 1 cup = 16 tablespoons\n",
    "def to_cups(amount, unit):\n",
    "    if unit == \"tablespoons\":\n",
    "        return float(amount/16.0)\n",
    "    if unit == \"teaspoons\":\n",
    "        return float(amount/48.0)\n",
    "    elif unit == \"cups\":\n",
    "        return amount, unit\n",
    "\n",
    "print to_cups(3, \"tablespoons\")\n",
    "\n",
    "\n",
    "def to_tablespoons(amount, unit):\n",
    "    if unit == \"teaspoons\":\n",
    "        return float(amount/3.0)\n",
    "    if unit == \"cups\":\n",
    "        return float(amount*16.0)\n",
    "    elif unit == \"tablespoons\":\n",
    "        return amount, unit\n",
    "\n",
    "print to_tablespoons(9, 'cups')\n",
    "\n",
    "\n",
    "def to_teaspoons(amount, unit):\n",
    "    if unit == \"tablespoons\":\n",
    "        return float(amount)*3\n",
    "    if unit == \"cups\":\n",
    "        return float(amount*48)\n",
    "    elif unit == \"teaspoons\":\n",
    "        return amount, unit\n",
    "print to_teaspoons(1, \"cups\")\n"
   ]
  },
  {
   "cell_type": "code",
   "execution_count": 3,
   "metadata": {
    "collapsed": false
   },
   "outputs": [
    {
     "name": "stdout",
     "output_type": "stream",
     "text": [
      "0.1875\n"
     ]
    }
   ],
   "source": [
    "def to_cups(amount, unit):\n",
    "    if unit == \"tablespoons\":\n",
    "        return float(amount/16.0)\n",
    "    elif unit == \"teaspoons\":\n",
    "        return float(amount/48.0)\n",
    "    elif unit == \"cups\":\n",
    "        return amount, unit\n",
    "\n",
    "print to_cups(3, \"tablespoons\")"
   ]
  },
  {
   "cell_type": "markdown",
   "metadata": {},
   "source": [
    "# 2. BRANCHING OUT\n",
    "\n",
    "If you're baking, measuring by weight is much much better than measuring by volume. Make a function called `to_grams` that takes an amount, a measurement and an ingredient name. It should return the number of grams the ingredient weighs.\n",
    "\n",
    "Unfortunately different ingredients weigh different amounts - one cup of flour is 125 grams, but one cup of water is 240 grams!\n",
    "\n",
    "Use these to test your function\n",
    "\n",
    "    print to_grams(3, 'cups', 'flour')\n",
    "    print to_grams(2, 'tablespoons', 'water')\n",
    "\n",
    "Dry ingredients (125 grams per cup): salt, flour, baking powder, baking soda, cinnamon, yeast\n",
    "\n",
    "Wet ingredients (240 grams per cup): water, butter, egg, milk, chocolate, sugar\n",
    "\n",
    "Warning: This list is reeeaaaally not accurate."
   ]
  },
  {
   "cell_type": "code",
   "execution_count": 12,
   "metadata": {
    "collapsed": true
   },
   "outputs": [],
   "source": [
    "dry =[\"salt\", \"flour\", \"baking powder\", \"baking soda\", \"cinnamon\", \"yeast\"]"
   ]
  },
  {
   "cell_type": "code",
   "execution_count": 13,
   "metadata": {
    "collapsed": false
   },
   "outputs": [],
   "source": [
    "wet = [\"water\", \"butter\", \"egg\", \"milk\", \"chocolate\", \"sugar\"]"
   ]
  },
  {
   "cell_type": "code",
   "execution_count": 14,
   "metadata": {
    "collapsed": false
   },
   "outputs": [
    {
     "name": "stdout",
     "output_type": "stream",
     "text": [
      "750.0\n"
     ]
    }
   ],
   "source": [
    "def to_grams(amount, unit, ingredients):\n",
    "    if ingredients in dry:\n",
    "        if unit == \"tablespoons\":\n",
    "            return float(amount/16.0*125)\n",
    "        if unit == \"teaspoons\":\n",
    "            return float(amount/48.0*125)\n",
    "        if unit == \"cups\":\n",
    "            return float(amount*125)\n",
    "    if ingredients in wet:\n",
    "        if unit == \"tablespoons\":\n",
    "            return float(amount/16.0*240)\n",
    "        if unit == \"teaspoons\":\n",
    "            return float(amount/48.0*240) \n",
    "        if unit == \"cups\":\n",
    "            return float(amount*240)\n",
    "\n",
    "print to_grams(6, 'cups', 'flour')"
   ]
  },
  {
   "cell_type": "code",
   "execution_count": 16,
   "metadata": {
    "collapsed": true
   },
   "outputs": [],
   "source": [
    "def to_grams(amount, unit, ingredients):\n",
    "    cups=to_cups(amount, unit)\n",
    "    dry =[\"salt\", \"flour\", \"baking powder\", \"baking soda\", \"cinnamon\", \"yeast\"]\n",
    "    if ingredients in dry:\n",
    "        return cups *125\n",
    "    else:\n",
    "        return cups *240"
   ]
  },
  {
   "cell_type": "code",
   "execution_count": 17,
   "metadata": {
    "collapsed": false
   },
   "outputs": [
    {
     "name": "stdout",
     "output_type": "stream",
     "text": [
      "30.0\n"
     ]
    }
   ],
   "source": [
    "print to_grams(2, 'tablespoons', 'water')"
   ]
  },
  {
   "cell_type": "markdown",
   "metadata": {},
   "source": [
    "###3. RING IT UP\n",
    "\n",
    "Now we have a big ol' recipe\n",
    "\n",
    "recipe = [\n",
    "  { 'amount': 3, 'measurement': 'cups', 'ingredient': 'flour' },\n",
    "  { 'amount': 1, 'measurement': 'tablespoons', 'ingredient': 'milk' },\n",
    "  { 'amount': 0.25, 'measurement': 'teaspoons', 'ingredient': 'salt' },\n",
    "  { 'amount': 1, 'measurement': 'cups', 'ingredient': 'butter' },\n",
    "  { 'amount': 0.75, 'measurement': 'cups', 'ingredient': 'baking powder' },\n",
    "  { 'amount': 0.25, 'measurement': 'cups', 'ingredient': 'egg' }\n",
    "]\n",
    "\n",
    "What's the total gram weight of the entire recipe?"
   ]
  },
  {
   "cell_type": "code",
   "execution_count": 318,
   "metadata": {
    "collapsed": true
   },
   "outputs": [],
   "source": [
    "re={ 'amount': 3, 'measurement': 'cups', 'ingredient': 'flour' }"
   ]
  },
  {
   "cell_type": "code",
   "execution_count": 319,
   "metadata": {
    "collapsed": true
   },
   "outputs": [],
   "source": [
    "amount= float(re ['amount'])"
   ]
  },
  {
   "cell_type": "code",
   "execution_count": 320,
   "metadata": {
    "collapsed": false
   },
   "outputs": [
    {
     "name": "stdout",
     "output_type": "stream",
     "text": [
      "3.0\n"
     ]
    }
   ],
   "source": [
    "print amount"
   ]
  },
  {
   "cell_type": "code",
   "execution_count": 78,
   "metadata": {
    "collapsed": true
   },
   "outputs": [],
   "source": [
    "unit= re ['measurement']"
   ]
  },
  {
   "cell_type": "code",
   "execution_count": 79,
   "metadata": {
    "collapsed": false
   },
   "outputs": [
    {
     "name": "stdout",
     "output_type": "stream",
     "text": [
      "cups\n"
     ]
    }
   ],
   "source": [
    "print unit"
   ]
  },
  {
   "cell_type": "code",
   "execution_count": 86,
   "metadata": {
    "collapsed": true
   },
   "outputs": [],
   "source": [
    "ingredient=re['ingredient']"
   ]
  },
  {
   "cell_type": "code",
   "execution_count": 315,
   "metadata": {
    "collapsed": false
   },
   "outputs": [
    {
     "name": "stdout",
     "output_type": "stream",
     "text": [
      "31.25\n"
     ]
    }
   ],
   "source": [
    "def to_grams(amount, unit, ingredients):\n",
    "    amount= float(re ['amount'])\n",
    "    unit= re ['measurement']\n",
    "    ingredient=re['ingredient']\n",
    "    if ingredients in dry:\n",
    "        if unit == \"tablespoons\":\n",
    "            return float(amount/16.0*125)\n",
    "        if unit == \"teaspoons\":\n",
    "            return float(amount/48.0*125)\n",
    "        if unit == \"cups\":\n",
    "            return float(amount*125)\n",
    "    if ingredients in wet:\n",
    "        if unit == \"tablespoons\":\n",
    "            return float(amount/16.0*240)\n",
    "        if unit == \"teaspoons\":\n",
    "            return float(amount/48.0*240) \n",
    "        if unit == \"cups\":\n",
    "            return float(amount*240)\n",
    "\n",
    "print to_grams(amount, unit, ingredient)\n",
    "result = to_grams(amount, unit, ingredient)"
   ]
  },
  {
   "cell_type": "code",
   "execution_count": 19,
   "metadata": {
    "collapsed": false
   },
   "outputs": [
    {
     "name": "stdout",
     "output_type": "stream",
     "text": [
      "3\n",
      "cups\n",
      "flour\n"
     ]
    },
    {
     "ename": "NameError",
     "evalue": "name 'grams' is not defined",
     "output_type": "error",
     "traceback": [
      "\u001b[0;31m---------------------------------------------------------------------------\u001b[0m",
      "\u001b[0;31mNameError\u001b[0m                                 Traceback (most recent call last)",
      "\u001b[0;32m<ipython-input-19-afe0d65f746c>\u001b[0m in \u001b[0;36m<module>\u001b[0;34m()\u001b[0m\n\u001b[1;32m      6\u001b[0m     \u001b[0;32mprint\u001b[0m \u001b[0mline\u001b[0m \u001b[0;34m[\u001b[0m\u001b[0;34m'measurement'\u001b[0m\u001b[0;34m]\u001b[0m\u001b[0;34m\u001b[0m\u001b[0m\n\u001b[1;32m      7\u001b[0m     \u001b[0;32mprint\u001b[0m \u001b[0mline\u001b[0m \u001b[0;34m[\u001b[0m\u001b[0;34m'ingredient'\u001b[0m\u001b[0;34m]\u001b[0m\u001b[0;34m\u001b[0m\u001b[0m\n\u001b[0;32m----> 8\u001b[0;31m     \u001b[0mweight\u001b[0m \u001b[0;34m=\u001b[0m \u001b[0mweight\u001b[0m \u001b[0;34m+\u001b[0m\u001b[0mgrams\u001b[0m\u001b[0;34m\u001b[0m\u001b[0m\n\u001b[0m\u001b[1;32m      9\u001b[0m \u001b[0;32mprint\u001b[0m \u001b[0mgrams\u001b[0m\u001b[0;34m,\u001b[0m \u001b[0;34m\"grams\"\u001b[0m\u001b[0;34m\u001b[0m\u001b[0m\n",
      "\u001b[0;31mNameError\u001b[0m: name 'grams' is not defined"
     ]
    }
   ],
   "source": [
    "\n",
    "\n",
    "weight = 0\n",
    "for line in recipe:\n",
    "    print line ['amount']\n",
    "    print line ['measurement']\n",
    "    print line ['ingredient']\n",
    "    weight = weight +grams\n",
    "print grams, \"grams\""
   ]
  },
  {
   "cell_type": "code",
   "execution_count": 316,
   "metadata": {
    "collapsed": false
   },
   "outputs": [
    {
     "name": "stdout",
     "output_type": "stream",
     "text": [
      "The total gram weight of the entire recipe is 633.46\n"
     ]
    }
   ],
   "source": [
    "result = []\n",
    "for re in recipe:\n",
    "    result.append(to_grams(amount, unit, ingredient))\n",
    "print \"The total gram weight of the entire recipe is\", \"%.2f\" %sum(result)"
   ]
  },
  {
   "cell_type": "markdown",
   "metadata": {},
   "source": [
    "4. BREAD CITY\n",
    "If you really like either baking or programming or algorithms, you can do this one:\n",
    "There's this magic thing called the Baker's Percentage when cooking bread.\n",
    "https://en.wikipedia.org/wiki/Baker_percentage http://www.craftybaking.com/howto/bakers-percentage-method http://thebakersguide.com/the-bakers-percentage\n",
    "It's just the weight of an ingredient vs. the weight of flour - 200 grams of water, 4 grams of yeast and 400 grams of flour = 50% water and 10% yeast. It's NOT the percentage of the total recipe, just the amount of the ingredient over the amount of flour (in that case it would be ~33% water).\n",
    "Let's say I want to make a yeasted dough (100% flour, 35% water, 35% milk, 4% yeast, 1.8% salt). My friend says she has 6 cups of flour. How many cups of water and milk, and teaspoons of yeast and salt do I need? You don't need a loop or anything, you should be able to do it piece by piece. You'll need to convert from volume to weight, then back to volume.\n",
    "Use the code below to convert between grams and other measurements. For example, grams_to_measurement(300, 'flour', 'cups') should convert 3 grams of flour into cups.\n",
    "def grams_to_measurement(amount, ingredient, measurement):\n",
    "Convert 1 measurement of the ingredient to grams to get the tablespoon:grams ratio\n",
    "conversion = to_grams(1, measurement, ingredient)\n",
    "Then invert it to get the grams:tablespoon ratio\n",
    "inverse = 1 / conversion\n",
    "Then multiply to get the amount of the measurement\n",
    "return inverse * amount"
   ]
  },
  {
   "cell_type": "markdown",
   "metadata": {},
   "source": [
    "# Baker percentage\n",
    "\n",
    "Baker's percentage is a baker's notation method indicating the flour-relative proportion of an ingredient used when making breads, cakes, muffins, and other pastries.It is also referred to as baker's math,[5][6] or otherwise contextually indicated by a phrase such as based on flour weight. Baker's percentage expresses each ingredient in parts per hundred as a ratio of the ingredient's mass to the total flour's mass (that is, the unit mass):[8][9][10]\n",
    "\n",
    "***baker's percentage(ingredient) = 100 * mass(ingredient)/(mass_(flour)***\n",
    "\n",
    "For example, in a recipe that calls for 10 pounds of flour and 5 pounds of water, the corresponding baker's percentages are 100% for the flour and 50% for the water. Because these percentages are stated with respect to the mass of flour rather than with respect to the mass of all ingredients, the total sum of these percentages always exceeds 100%.\n",
    "\n",
    "(From Wikipedia, the free encyclopedia)\n"
   ]
  },
  {
   "cell_type": "code",
   "execution_count": 300,
   "metadata": {
    "collapsed": false
   },
   "outputs": [],
   "source": [
    "f=1\n",
    "m=1\n",
    "w=1\n",
    "y=1\n",
    "s=1\n",
    "total = 1*f+0.35*m+0.35*w+0.04*y+0.018*s"
   ]
  },
  {
   "cell_type": "code",
   "execution_count": 307,
   "metadata": {
    "collapsed": false
   },
   "outputs": [
    {
     "name": "stdout",
     "output_type": "stream",
     "text": [
      "1.758\n"
     ]
    }
   ],
   "source": [
    "print total"
   ]
  },
  {
   "cell_type": "code",
   "execution_count": 302,
   "metadata": {
    "collapsed": true
   },
   "outputs": [],
   "source": [
    "baker=0.35*m+0.35*w+0.04*y+0.018*s"
   ]
  },
  {
   "cell_type": "code",
   "execution_count": 303,
   "metadata": {
    "collapsed": false
   },
   "outputs": [
    {
     "name": "stdout",
     "output_type": "stream",
     "text": [
      "0.758\n"
     ]
    }
   ],
   "source": [
    "print baker"
   ]
  },
  {
   "cell_type": "code",
   "execution_count": 309,
   "metadata": {
    "collapsed": true
   },
   "outputs": [],
   "source": [
    "f=6"
   ]
  },
  {
   "cell_type": "code",
   "execution_count": 311,
   "metadata": {
    "collapsed": false
   },
   "outputs": [
    {
     "name": "stdout",
     "output_type": "stream",
     "text": [
      "1.09375 coups of water 1.09375 coups of milk 5.184 tespoons of salt 11.52 tespoons of yeast\n"
     ]
    }
   ],
   "source": [
    "m=0.35*f/240*125\n",
    "w=0.35*f/240*125\n",
    "y=0.04*f*48\n",
    "s=0.018*f*48\n",
    "print m, \"coups of water\", w, \"coups of milk\", s, \"tespoons of salt\", y, \"tespoons of yeast\""
   ]
  },
  {
   "cell_type": "markdown",
   "metadata": {},
   "source": [
    "Easy function"
   ]
  },
  {
   "cell_type": "code",
   "execution_count": 314,
   "metadata": {
    "collapsed": false
   },
   "outputs": [
    {
     "name": "stdout",
     "output_type": "stream",
     "text": [
      "('For an input of', 6, 'coups of flour you need 1.09 coups of water', '1.09 coups of milk', '11.52 teaspoons of salt', '5.18 teaspoons of yeast')\n"
     ]
    }
   ],
   "source": [
    "def needs(f):\n",
    "    m= f*0.35/240*125\n",
    "    w= f*0.35/240*125\n",
    "    y=f*0.04*48\n",
    "    s=f*0.018*48\n",
    "    return \"For an input of\", f, \"coups of flour you need \"+ \"%.2f\" %(m)+ \" coups of water\", \"%.2f\" %(w)+\" coups of milk\", \"%.2f\" %y+\" teaspoons of salt\", \"%.2f\" %s+ \" teaspoons of yeast\"\n",
    "print needs(6)"
   ]
  },
  {
   "cell_type": "code",
   "execution_count": 299,
   "metadata": {
    "collapsed": false
   },
   "outputs": [
    {
     "name": "stdout",
     "output_type": "stream",
     "text": [
      "0.520833333333\n"
     ]
    }
   ],
   "source": [
    "def todry(f):\n",
    "    xx= float(f)/240*125\n",
    "    return xx\n",
    "print todry(1)"
   ]
  },
  {
   "cell_type": "code",
   "execution_count": 286,
   "metadata": {
    "collapsed": false
   },
   "outputs": [
    {
     "name": "stdout",
     "output_type": "stream",
     "text": [
      "With an input of 6 cups of flour you need 1.09 cups of milk, 1.09 cups of water, 11.52 teaspoons of yeast and 5.18 teaspoons of salt.\n"
     ]
    }
   ],
   "source": [
    "def needs(f):\n",
    "    m= 0.35*todry(f)\n",
    "    w= 0.35*todry(f)\n",
    "    y=0.04*(to_teaspoons(f, \"cups\"))\n",
    "    s=0.018*(to_teaspoons(f, \"cups\"))\n",
    "    return \"With an input of %s cups of flour you need %s cups of milk, %s cups of water, %s teaspoons of yeast and %s teaspoons of salt.\" % (f,\"%.2f\" %(m),\"%.2f\" %(w),\"%.2f\" %(y),\"%.2f\" %s)\n",
    "print needs(6)"
   ]
  },
  {
   "cell_type": "markdown",
   "metadata": {},
   "source": [
    "Somas way"
   ]
  },
  {
   "cell_type": "code",
   "execution_count": 204,
   "metadata": {
    "collapsed": false
   },
   "outputs": [
    {
     "name": "stdout",
     "output_type": "stream",
     "text": [
      "2.4\n"
     ]
    }
   ],
   "source": [
    "def to_volume(amount, unit, ingredients):\n",
    "    return (amount/(to_grams(1, unit, ingredients)))\n",
    "print to_volume(300, \"cups\", 'flour')"
   ]
  },
  {
   "cell_type": "code",
   "execution_count": 306,
   "metadata": {
    "collapsed": false
   },
   "outputs": [
    {
     "name": "stdout",
     "output_type": "stream",
     "text": [
      "With an input of 1.0 cups of flour you need 0.18 cups of milk, 0.18 cups of water, 0.04 teaspoons of yeast and 0.04 teasponns of salt.\n"
     ]
    }
   ],
   "source": [
    "def somabaker(amount, unit, ingredients):\n",
    "    convert=float(to_grams(amount, unit, ingredients))\n",
    "    ms=0.35*convert\n",
    "    ws=0.35*convert\n",
    "    ys=0.04*convert\n",
    "    ss=0.018*convert\n",
    "    return \"With an input of %s cups of flour you need %s cups of milk, %s cups of water, %s teaspoons of yeast and %s teasponns of salt.\" % (to_volume(convert, \"cups\", 'flour'),float(\"%.2f\" %(to_volume(ms, \"cups\", 'milk'))), float(\"%.2f\" %(to_volume(ws, \"cups\", 'water'))), float(\"%.2f\" %(to_volume(ys, \"teaspoons\", 'yeast'))), float(\"%.2f\" %(to_volume(ys, \"teaspoons\", 'salt'))))\n",
    "\n",
    "print somabaker(6, \"cups\", \"flour\")"
   ]
  },
  {
   "cell_type": "code",
   "execution_count": null,
   "metadata": {
    "collapsed": true
   },
   "outputs": [],
   "source": []
  }
 ],
 "metadata": {
  "kernelspec": {
   "display_name": "Python 2",
   "language": "python",
   "name": "python2"
  },
  "language_info": {
   "codemirror_mode": {
    "name": "ipython",
    "version": 2
   },
   "file_extension": ".py",
   "mimetype": "text/x-python",
   "name": "python",
   "nbconvert_exporter": "python",
   "pygments_lexer": "ipython2",
   "version": "2.7.10"
  }
 },
 "nbformat": 4,
 "nbformat_minor": 0
}
